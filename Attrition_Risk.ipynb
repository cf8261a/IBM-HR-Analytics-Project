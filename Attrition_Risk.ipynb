{
 "cells": [
  {
   "cell_type": "markdown",
   "id": "a4d6423e",
   "metadata": {},
   "source": [
    "# **Attrition Risk Modeling**\n",
    "<br/>by Christian Fernandes\n",
    "\n",
    "Dataset: https://www.kaggle.com/datasets/pavansubhasht/ibm-hr-analytics-attrition-dataset?resource=download"
   ]
  },
  {
   "cell_type": "markdown",
   "id": "826ed3ab",
   "metadata": {},
   "source": [
    "To leave or not to leave? That is the question many of us in the workforce have probably at least once in our careers considered. Whether it be for chasing that next promotion, improving that work-life balance, or disatisfaction with our current environment, there are many reasons why we'd choose to jump ship. "
   ]
  },
  {
   "cell_type": "markdown",
   "id": "da0260e9",
   "metadata": {},
   "source": [
    "Well, what does this mean for the employer? In terms of the bottom line, high attrition could engender a number of issues that include but are certainly not limited to higher costs, decreased workplace morale, and potentially, a snowball effect that leads to more and more turnovers. "
   ]
  },
  {
   "cell_type": "markdown",
   "id": "aa56f5ac",
   "metadata": {},
   "source": [
    "What can employers do? As with any problem, the first thing that needs to be done is to identify the problem and in many cases, that could be hardest part because they are many, many reasons that underpin turnover in the workplace.<br/> \n",
    "\n",
    "Simply put, companies need to take advantage of the employee data that is at their fingertips while also ensuring that employee data is protected and secured with utmost integrity. \n",
    "\n",
    "Here are some things to consider:\n",
    "<ul>\n",
    "    <li> Using geospatial information like addresses, we can pair this data with employee HQ location data to determine the commuting distance for employees. If we pair this with a flag that identifies remote versus in-office employees then we can see how turnover effects the former versus the latter. </li>\n",
    "    <li> Using employee start dates and the current date, we could determine the length of service for a given employee and see if this could serve as a proxy for a lack of upward mobility. </li>\n",
    "    <li> Using age information, could it be the case that younger employees are more prone to job hop in today's market? For employees at retirement age, what does turnover look like for this group?</li>\n",
    "</ul>"
   ]
  },
  {
   "cell_type": "markdown",
   "id": "01e387ef",
   "metadata": {},
   "source": [
    "## Reading in the data"
   ]
  },
  {
   "cell_type": "code",
   "execution_count": 1,
   "id": "68327cb7",
   "metadata": {},
   "outputs": [],
   "source": [
    "import statsmodels.formula.api as smf\n",
    "import statsmodels.api as sm"
   ]
  },
  {
   "cell_type": "code",
   "execution_count": 2,
   "id": "f7015493",
   "metadata": {},
   "outputs": [],
   "source": [
    "import pandas as pd\n",
    "import numpy as np\n",
    "import matplotlib.pyplot as plt\n",
    "from sklearn.metrics import classification_report, confusion_matrix\n",
    "from sklearn.model_selection import train_test_split\n",
    "from collections import Counter"
   ]
  },
  {
   "cell_type": "code",
   "execution_count": 3,
   "id": "5f5196c4",
   "metadata": {},
   "outputs": [],
   "source": [
    "empattr = pd.read_csv('WA_Fn-UseC_-HR-Employee-Attrition.csv')"
   ]
  },
  {
   "cell_type": "code",
   "execution_count": 4,
   "id": "1284e9a6",
   "metadata": {
    "scrolled": true
   },
   "outputs": [
    {
     "data": {
      "text/html": [
       "<div>\n",
       "<style scoped>\n",
       "    .dataframe tbody tr th:only-of-type {\n",
       "        vertical-align: middle;\n",
       "    }\n",
       "\n",
       "    .dataframe tbody tr th {\n",
       "        vertical-align: top;\n",
       "    }\n",
       "\n",
       "    .dataframe thead th {\n",
       "        text-align: right;\n",
       "    }\n",
       "</style>\n",
       "<table border=\"1\" class=\"dataframe\">\n",
       "  <thead>\n",
       "    <tr style=\"text-align: right;\">\n",
       "      <th></th>\n",
       "      <th>Age</th>\n",
       "      <th>Attrition</th>\n",
       "      <th>BusinessTravel</th>\n",
       "      <th>DailyRate</th>\n",
       "      <th>Department</th>\n",
       "      <th>DistanceFromHome</th>\n",
       "      <th>Education</th>\n",
       "      <th>EducationField</th>\n",
       "      <th>EmployeeCount</th>\n",
       "      <th>EmployeeNumber</th>\n",
       "      <th>...</th>\n",
       "      <th>RelationshipSatisfaction</th>\n",
       "      <th>StandardHours</th>\n",
       "      <th>StockOptionLevel</th>\n",
       "      <th>TotalWorkingYears</th>\n",
       "      <th>TrainingTimesLastYear</th>\n",
       "      <th>WorkLifeBalance</th>\n",
       "      <th>YearsAtCompany</th>\n",
       "      <th>YearsInCurrentRole</th>\n",
       "      <th>YearsSinceLastPromotion</th>\n",
       "      <th>YearsWithCurrManager</th>\n",
       "    </tr>\n",
       "  </thead>\n",
       "  <tbody>\n",
       "    <tr>\n",
       "      <th>495</th>\n",
       "      <td>27</td>\n",
       "      <td>Yes</td>\n",
       "      <td>Travel_Rarely</td>\n",
       "      <td>1420</td>\n",
       "      <td>Sales</td>\n",
       "      <td>2</td>\n",
       "      <td>1</td>\n",
       "      <td>Marketing</td>\n",
       "      <td>1</td>\n",
       "      <td>667</td>\n",
       "      <td>...</td>\n",
       "      <td>2</td>\n",
       "      <td>80</td>\n",
       "      <td>1</td>\n",
       "      <td>5</td>\n",
       "      <td>3</td>\n",
       "      <td>3</td>\n",
       "      <td>4</td>\n",
       "      <td>3</td>\n",
       "      <td>0</td>\n",
       "      <td>2</td>\n",
       "    </tr>\n",
       "    <tr>\n",
       "      <th>494</th>\n",
       "      <td>34</td>\n",
       "      <td>No</td>\n",
       "      <td>Travel_Rarely</td>\n",
       "      <td>204</td>\n",
       "      <td>Sales</td>\n",
       "      <td>14</td>\n",
       "      <td>3</td>\n",
       "      <td>Technical Degree</td>\n",
       "      <td>1</td>\n",
       "      <td>666</td>\n",
       "      <td>...</td>\n",
       "      <td>4</td>\n",
       "      <td>80</td>\n",
       "      <td>2</td>\n",
       "      <td>8</td>\n",
       "      <td>3</td>\n",
       "      <td>3</td>\n",
       "      <td>8</td>\n",
       "      <td>2</td>\n",
       "      <td>0</td>\n",
       "      <td>6</td>\n",
       "    </tr>\n",
       "    <tr>\n",
       "      <th>1061</th>\n",
       "      <td>24</td>\n",
       "      <td>No</td>\n",
       "      <td>Non-Travel</td>\n",
       "      <td>830</td>\n",
       "      <td>Sales</td>\n",
       "      <td>13</td>\n",
       "      <td>2</td>\n",
       "      <td>Life Sciences</td>\n",
       "      <td>1</td>\n",
       "      <td>1495</td>\n",
       "      <td>...</td>\n",
       "      <td>3</td>\n",
       "      <td>80</td>\n",
       "      <td>1</td>\n",
       "      <td>1</td>\n",
       "      <td>2</td>\n",
       "      <td>3</td>\n",
       "      <td>1</td>\n",
       "      <td>0</td>\n",
       "      <td>0</td>\n",
       "      <td>0</td>\n",
       "    </tr>\n",
       "  </tbody>\n",
       "</table>\n",
       "<p>3 rows × 35 columns</p>\n",
       "</div>"
      ],
      "text/plain": [
       "      Age Attrition BusinessTravel  DailyRate Department  DistanceFromHome  \\\n",
       "495    27       Yes  Travel_Rarely       1420      Sales                 2   \n",
       "494    34        No  Travel_Rarely        204      Sales                14   \n",
       "1061   24        No     Non-Travel        830      Sales                13   \n",
       "\n",
       "      Education    EducationField  EmployeeCount  EmployeeNumber  ...  \\\n",
       "495           1         Marketing              1             667  ...   \n",
       "494           3  Technical Degree              1             666  ...   \n",
       "1061          2     Life Sciences              1            1495  ...   \n",
       "\n",
       "      RelationshipSatisfaction StandardHours  StockOptionLevel  \\\n",
       "495                          2            80                 1   \n",
       "494                          4            80                 2   \n",
       "1061                         3            80                 1   \n",
       "\n",
       "      TotalWorkingYears  TrainingTimesLastYear WorkLifeBalance  \\\n",
       "495                   5                      3               3   \n",
       "494                   8                      3               3   \n",
       "1061                  1                      2               3   \n",
       "\n",
       "      YearsAtCompany YearsInCurrentRole  YearsSinceLastPromotion  \\\n",
       "495                4                  3                        0   \n",
       "494                8                  2                        0   \n",
       "1061               1                  0                        0   \n",
       "\n",
       "      YearsWithCurrManager  \n",
       "495                      2  \n",
       "494                      6  \n",
       "1061                     0  \n",
       "\n",
       "[3 rows x 35 columns]"
      ]
     },
     "execution_count": 4,
     "metadata": {},
     "output_type": "execute_result"
    }
   ],
   "source": [
    "empattr.sample(3)"
   ]
  },
  {
   "cell_type": "code",
   "execution_count": 5,
   "id": "471bff6b",
   "metadata": {},
   "outputs": [
    {
     "data": {
      "text/plain": [
       "(1470, 35)"
      ]
     },
     "execution_count": 5,
     "metadata": {},
     "output_type": "execute_result"
    }
   ],
   "source": [
    "empattr.shape"
   ]
  },
  {
   "cell_type": "markdown",
   "id": "67b82990",
   "metadata": {},
   "source": [
    "The dataset has 35 variables and 1470 observations. Several things we need to be aware of: \n",
    "<ul> \n",
    "    <li> Small sample sizes in general can lead to instability in our model parameter estimates </li>\n",
    "    <li> Ideally, our response variable should be an i.i.d random variable otherwise, any predictions made from this data could be way off.\n",
    "</ul>\n"
   ]
  },
  {
   "cell_type": "code",
   "execution_count": 6,
   "id": "bf777be6",
   "metadata": {
    "scrolled": true
   },
   "outputs": [
    {
     "data": {
      "text/plain": [
       "Age                          int64\n",
       "Attrition                   object\n",
       "BusinessTravel              object\n",
       "DailyRate                    int64\n",
       "Department                  object\n",
       "DistanceFromHome             int64\n",
       "Education                    int64\n",
       "EducationField              object\n",
       "EmployeeCount                int64\n",
       "EmployeeNumber               int64\n",
       "EnvironmentSatisfaction      int64\n",
       "Gender                      object\n",
       "HourlyRate                   int64\n",
       "JobInvolvement               int64\n",
       "JobLevel                     int64\n",
       "JobRole                     object\n",
       "JobSatisfaction              int64\n",
       "MaritalStatus               object\n",
       "MonthlyIncome                int64\n",
       "MonthlyRate                  int64\n",
       "NumCompaniesWorked           int64\n",
       "Over18                      object\n",
       "OverTime                    object\n",
       "PercentSalaryHike            int64\n",
       "PerformanceRating            int64\n",
       "RelationshipSatisfaction     int64\n",
       "StandardHours                int64\n",
       "StockOptionLevel             int64\n",
       "TotalWorkingYears            int64\n",
       "TrainingTimesLastYear        int64\n",
       "WorkLifeBalance              int64\n",
       "YearsAtCompany               int64\n",
       "YearsInCurrentRole           int64\n",
       "YearsSinceLastPromotion      int64\n",
       "YearsWithCurrManager         int64\n",
       "dtype: object"
      ]
     },
     "execution_count": 6,
     "metadata": {},
     "output_type": "execute_result"
    }
   ],
   "source": [
    "empattr.dtypes"
   ]
  },
  {
   "cell_type": "code",
   "execution_count": 7,
   "id": "37df91df",
   "metadata": {},
   "outputs": [],
   "source": [
    "objcols = [c for c in empattr.columns if empattr[c].dtype == 'O']"
   ]
  },
  {
   "cell_type": "code",
   "execution_count": 8,
   "id": "bb46fb39",
   "metadata": {},
   "outputs": [],
   "source": [
    "catcols = [\"Education\", \"EnvironmentSatisfaction\", \"JobInvolvement\", \"JobSatisfaction\", \"PerformanceRating\", \"RelationshipSatisfaction\", \"WorkLifeBalance\"]"
   ]
  },
  {
   "cell_type": "code",
   "execution_count": 9,
   "id": "5051ab2e",
   "metadata": {
    "scrolled": false
   },
   "outputs": [
    {
     "data": {
      "text/plain": [
       "['Attrition',\n",
       " 'BusinessTravel',\n",
       " 'Department',\n",
       " 'EducationField',\n",
       " 'Gender',\n",
       " 'JobRole',\n",
       " 'MaritalStatus',\n",
       " 'Over18',\n",
       " 'OverTime']"
      ]
     },
     "execution_count": 9,
     "metadata": {},
     "output_type": "execute_result"
    }
   ],
   "source": [
    "objcols"
   ]
  },
  {
   "cell_type": "code",
   "execution_count": 10,
   "id": "317a5784",
   "metadata": {},
   "outputs": [
    {
     "data": {
      "text/plain": [
       "set()"
      ]
     },
     "execution_count": 10,
     "metadata": {},
     "output_type": "execute_result"
    }
   ],
   "source": [
    "# Check to see if any of the object type columns are in the categorical column list defined in the IBM metadata\n",
    "# Result is an empty set\n",
    "set(objcols).intersection(set(catcols))"
   ]
  },
  {
   "cell_type": "markdown",
   "id": "a69115c1",
   "metadata": {},
   "source": [
    "## EDA"
   ]
  },
  {
   "cell_type": "code",
   "execution_count": 11,
   "id": "6850614b",
   "metadata": {},
   "outputs": [],
   "source": [
    "def plot_hist(tibble, colname, response_var):\n",
    "    tibble[[colname, response_var]].boxplot(by = response_var, grid = False)\n",
    "\n",
    "def plot_barchart(series_col):\n",
    "    \"\"\"a is pd.Series object that names the column to be converted to a barchart\"\"\"\n",
    "    counterDict = dict(Counter(series_col))\n",
    "    df = pd.DataFrame({'labels': counterDict.keys(), 'values': counterDict.values()})\n",
    "\n",
    "    df.plot.bar(x = 'labels', y = 'values', title = series_col.name)\n",
    "    \n",
    "def plot_figure(tibble, colname, xlab = None, ylab = None, fig_type = None, response_var = None):\n",
    "    from collections import Counter\n",
    "    \n",
    "    if fig_type:\n",
    "        if fig_type == 'hist':\n",
    "            tibble[colname].hist(grid = False)\n",
    "        elif fig_type == 'boxplot':\n",
    "            plot_hist(tibble, colname, response_var)\n",
    "        elif fig_type == 'barh':\n",
    "            plot_barchart(tibble[colname])"
   ]
  },
  {
   "cell_type": "code",
   "execution_count": 12,
   "id": "95a9a1cd",
   "metadata": {},
   "outputs": [],
   "source": [
    "# Descriptive statistics for the categorical data\n",
    "\n",
    "# First ensure all columns are of the 'object' type - similar to R's as.factor() command\n",
    "empattr_obj = empattr[objcols + catcols].astype(object)"
   ]
  },
  {
   "cell_type": "code",
   "execution_count": 13,
   "id": "1d5bf430",
   "metadata": {},
   "outputs": [
    {
     "data": {
      "text/html": [
       "<div>\n",
       "<style scoped>\n",
       "    .dataframe tbody tr th:only-of-type {\n",
       "        vertical-align: middle;\n",
       "    }\n",
       "\n",
       "    .dataframe tbody tr th {\n",
       "        vertical-align: top;\n",
       "    }\n",
       "\n",
       "    .dataframe thead th {\n",
       "        text-align: right;\n",
       "    }\n",
       "</style>\n",
       "<table border=\"1\" class=\"dataframe\">\n",
       "  <thead>\n",
       "    <tr style=\"text-align: right;\">\n",
       "      <th></th>\n",
       "      <th>Attrition</th>\n",
       "      <th>BusinessTravel</th>\n",
       "      <th>Department</th>\n",
       "      <th>EducationField</th>\n",
       "      <th>Gender</th>\n",
       "      <th>JobRole</th>\n",
       "      <th>MaritalStatus</th>\n",
       "      <th>Over18</th>\n",
       "      <th>OverTime</th>\n",
       "      <th>Education</th>\n",
       "      <th>EnvironmentSatisfaction</th>\n",
       "      <th>JobInvolvement</th>\n",
       "      <th>JobSatisfaction</th>\n",
       "      <th>PerformanceRating</th>\n",
       "      <th>RelationshipSatisfaction</th>\n",
       "      <th>WorkLifeBalance</th>\n",
       "    </tr>\n",
       "  </thead>\n",
       "  <tbody>\n",
       "    <tr>\n",
       "      <th>count</th>\n",
       "      <td>1470</td>\n",
       "      <td>1470</td>\n",
       "      <td>1470</td>\n",
       "      <td>1470</td>\n",
       "      <td>1470</td>\n",
       "      <td>1470</td>\n",
       "      <td>1470</td>\n",
       "      <td>1470</td>\n",
       "      <td>1470</td>\n",
       "      <td>1470</td>\n",
       "      <td>1470</td>\n",
       "      <td>1470</td>\n",
       "      <td>1470</td>\n",
       "      <td>1470</td>\n",
       "      <td>1470</td>\n",
       "      <td>1470</td>\n",
       "    </tr>\n",
       "    <tr>\n",
       "      <th>unique</th>\n",
       "      <td>2</td>\n",
       "      <td>3</td>\n",
       "      <td>3</td>\n",
       "      <td>6</td>\n",
       "      <td>2</td>\n",
       "      <td>9</td>\n",
       "      <td>3</td>\n",
       "      <td>1</td>\n",
       "      <td>2</td>\n",
       "      <td>5</td>\n",
       "      <td>4</td>\n",
       "      <td>4</td>\n",
       "      <td>4</td>\n",
       "      <td>2</td>\n",
       "      <td>4</td>\n",
       "      <td>4</td>\n",
       "    </tr>\n",
       "    <tr>\n",
       "      <th>top</th>\n",
       "      <td>No</td>\n",
       "      <td>Travel_Rarely</td>\n",
       "      <td>Research &amp; Development</td>\n",
       "      <td>Life Sciences</td>\n",
       "      <td>Male</td>\n",
       "      <td>Sales Executive</td>\n",
       "      <td>Married</td>\n",
       "      <td>Y</td>\n",
       "      <td>No</td>\n",
       "      <td>3</td>\n",
       "      <td>3</td>\n",
       "      <td>3</td>\n",
       "      <td>4</td>\n",
       "      <td>3</td>\n",
       "      <td>3</td>\n",
       "      <td>3</td>\n",
       "    </tr>\n",
       "    <tr>\n",
       "      <th>freq</th>\n",
       "      <td>1233</td>\n",
       "      <td>1043</td>\n",
       "      <td>961</td>\n",
       "      <td>606</td>\n",
       "      <td>882</td>\n",
       "      <td>326</td>\n",
       "      <td>673</td>\n",
       "      <td>1470</td>\n",
       "      <td>1054</td>\n",
       "      <td>572</td>\n",
       "      <td>453</td>\n",
       "      <td>868</td>\n",
       "      <td>459</td>\n",
       "      <td>1244</td>\n",
       "      <td>459</td>\n",
       "      <td>893</td>\n",
       "    </tr>\n",
       "  </tbody>\n",
       "</table>\n",
       "</div>"
      ],
      "text/plain": [
       "       Attrition BusinessTravel              Department EducationField Gender  \\\n",
       "count       1470           1470                    1470           1470   1470   \n",
       "unique         2              3                       3              6      2   \n",
       "top           No  Travel_Rarely  Research & Development  Life Sciences   Male   \n",
       "freq        1233           1043                     961            606    882   \n",
       "\n",
       "                JobRole MaritalStatus Over18 OverTime  Education  \\\n",
       "count              1470          1470   1470     1470       1470   \n",
       "unique                9             3      1        2          5   \n",
       "top     Sales Executive       Married      Y       No          3   \n",
       "freq                326           673   1470     1054        572   \n",
       "\n",
       "        EnvironmentSatisfaction  JobInvolvement  JobSatisfaction  \\\n",
       "count                      1470            1470             1470   \n",
       "unique                        4               4                4   \n",
       "top                           3               3                4   \n",
       "freq                        453             868              459   \n",
       "\n",
       "        PerformanceRating  RelationshipSatisfaction  WorkLifeBalance  \n",
       "count                1470                      1470             1470  \n",
       "unique                  2                         4                4  \n",
       "top                     3                         3                3  \n",
       "freq                 1244                       459              893  "
      ]
     },
     "execution_count": 13,
     "metadata": {},
     "output_type": "execute_result"
    }
   ],
   "source": [
    "empattr_obj.describe()"
   ]
  },
  {
   "cell_type": "markdown",
   "id": "6f70a5cb",
   "metadata": {},
   "source": [
    "Already, we can see for some of the observations that a majority of the employees in this dataset did not quit their jobs (Attrition = No). We can also see that a large proportion of observations are male employees (they make up a majority relative to the other gender 'female').   "
   ]
  },
  {
   "cell_type": "code",
   "execution_count": 14,
   "id": "dde18663",
   "metadata": {},
   "outputs": [
    {
     "data": {
      "image/png": "[encoded data removed]",
      "text/plain": [
       "<Figure size 432x288 with 1 Axes>"
      ]
     },
     "metadata": {
      "needs_background": "light"
     },
     "output_type": "display_data"
    },
    {
     "data": {
      "image/png": "[encoded data removed]",
      "text/plain": [
       "<Figure size 432x288 with 1 Axes>"
      ]
     },
     "metadata": {
      "needs_background": "light"
     },
     "output_type": "display_data"
    },
    {
     "data": {
      "image/png": "[encoded data removed]",
      "text/plain": [
       "<Figure size 432x288 with 1 Axes>"
      ]
     },
     "metadata": {
      "needs_background": "light"
     },
     "output_type": "display_data"
    }
   ],
   "source": [
    "printcols = ['Attrition', 'Gender', 'PerformanceRating']\n",
    "for c in printcols:\n",
    "    plot_figure(empattr, c,  xlab = c, ylab = None, fig_type = 'barh')"
   ]
  },
  {
   "cell_type": "code",
   "execution_count": 15,
   "id": "e8714903",
   "metadata": {},
   "outputs": [],
   "source": [
    "# Descriptive statistics for the numerical data\n",
    "\n",
    "# Grabbing all of the columns that were not identified as categorical (not in the empattr_obj dataframe)\n",
    "empattr_numerical_cols = list(set(empattr.columns.tolist()).difference(set(objcols + catcols)))"
   ]
  },
  {
   "cell_type": "code",
   "execution_count": 16,
   "id": "2f0650d0",
   "metadata": {},
   "outputs": [
    {
     "data": {
      "text/html": [
       "<div>\n",
       "<style scoped>\n",
       "    .dataframe tbody tr th:only-of-type {\n",
       "        vertical-align: middle;\n",
       "    }\n",
       "\n",
       "    .dataframe tbody tr th {\n",
       "        vertical-align: top;\n",
       "    }\n",
       "\n",
       "    .dataframe thead th {\n",
       "        text-align: right;\n",
       "    }\n",
       "</style>\n",
       "<table border=\"1\" class=\"dataframe\">\n",
       "  <thead>\n",
       "    <tr style=\"text-align: right;\">\n",
       "      <th></th>\n",
       "      <th>TotalWorkingYears</th>\n",
       "      <th>YearsAtCompany</th>\n",
       "      <th>DistanceFromHome</th>\n",
       "      <th>YearsInCurrentRole</th>\n",
       "      <th>YearsWithCurrManager</th>\n",
       "      <th>MonthlyRate</th>\n",
       "      <th>JobLevel</th>\n",
       "      <th>Age</th>\n",
       "      <th>MonthlyIncome</th>\n",
       "      <th>DailyRate</th>\n",
       "      <th>NumCompaniesWorked</th>\n",
       "      <th>HourlyRate</th>\n",
       "      <th>StandardHours</th>\n",
       "      <th>PercentSalaryHike</th>\n",
       "      <th>EmployeeNumber</th>\n",
       "      <th>YearsSinceLastPromotion</th>\n",
       "      <th>TrainingTimesLastYear</th>\n",
       "      <th>EmployeeCount</th>\n",
       "      <th>StockOptionLevel</th>\n",
       "    </tr>\n",
       "  </thead>\n",
       "  <tbody>\n",
       "    <tr>\n",
       "      <th>count</th>\n",
       "      <td>1470.000000</td>\n",
       "      <td>1470.000000</td>\n",
       "      <td>1470.000000</td>\n",
       "      <td>1470.000000</td>\n",
       "      <td>1470.000000</td>\n",
       "      <td>1470.000000</td>\n",
       "      <td>1470.000000</td>\n",
       "      <td>1470.000000</td>\n",
       "      <td>1470.000000</td>\n",
       "      <td>1470.000000</td>\n",
       "      <td>1470.000000</td>\n",
       "      <td>1470.000000</td>\n",
       "      <td>1470.0</td>\n",
       "      <td>1470.000000</td>\n",
       "      <td>1470.000000</td>\n",
       "      <td>1470.000000</td>\n",
       "      <td>1470.000000</td>\n",
       "      <td>1470.0</td>\n",
       "      <td>1470.000000</td>\n",
       "    </tr>\n",
       "    <tr>\n",
       "      <th>mean</th>\n",
       "      <td>11.279592</td>\n",
       "      <td>7.008163</td>\n",
       "      <td>9.192517</td>\n",
       "      <td>4.229252</td>\n",
       "      <td>4.123129</td>\n",
       "      <td>14313.103401</td>\n",
       "      <td>2.063946</td>\n",
       "      <td>36.923810</td>\n",
       "      <td>6502.931293</td>\n",
       "      <td>802.485714</td>\n",
       "      <td>2.693197</td>\n",
       "      <td>65.891156</td>\n",
       "      <td>80.0</td>\n",
       "      <td>15.209524</td>\n",
       "      <td>1024.865306</td>\n",
       "      <td>2.187755</td>\n",
       "      <td>2.799320</td>\n",
       "      <td>1.0</td>\n",
       "      <td>0.793878</td>\n",
       "    </tr>\n",
       "    <tr>\n",
       "      <th>std</th>\n",
       "      <td>7.780782</td>\n",
       "      <td>6.126525</td>\n",
       "      <td>8.106864</td>\n",
       "      <td>3.623137</td>\n",
       "      <td>3.568136</td>\n",
       "      <td>7117.786044</td>\n",
       "      <td>1.106940</td>\n",
       "      <td>9.135373</td>\n",
       "      <td>4707.956783</td>\n",
       "      <td>403.509100</td>\n",
       "      <td>2.498009</td>\n",
       "      <td>20.329428</td>\n",
       "      <td>0.0</td>\n",
       "      <td>3.659938</td>\n",
       "      <td>602.024335</td>\n",
       "      <td>3.222430</td>\n",
       "      <td>1.289271</td>\n",
       "      <td>0.0</td>\n",
       "      <td>0.852077</td>\n",
       "    </tr>\n",
       "    <tr>\n",
       "      <th>min</th>\n",
       "      <td>0.000000</td>\n",
       "      <td>0.000000</td>\n",
       "      <td>1.000000</td>\n",
       "      <td>0.000000</td>\n",
       "      <td>0.000000</td>\n",
       "      <td>2094.000000</td>\n",
       "      <td>1.000000</td>\n",
       "      <td>18.000000</td>\n",
       "      <td>1009.000000</td>\n",
       "      <td>102.000000</td>\n",
       "      <td>0.000000</td>\n",
       "      <td>30.000000</td>\n",
       "      <td>80.0</td>\n",
       "      <td>11.000000</td>\n",
       "      <td>1.000000</td>\n",
       "      <td>0.000000</td>\n",
       "      <td>0.000000</td>\n",
       "      <td>1.0</td>\n",
       "      <td>0.000000</td>\n",
       "    </tr>\n",
       "    <tr>\n",
       "      <th>25%</th>\n",
       "      <td>6.000000</td>\n",
       "      <td>3.000000</td>\n",
       "      <td>2.000000</td>\n",
       "      <td>2.000000</td>\n",
       "      <td>2.000000</td>\n",
       "      <td>8047.000000</td>\n",
       "      <td>1.000000</td>\n",
       "      <td>30.000000</td>\n",
       "      <td>2911.000000</td>\n",
       "      <td>465.000000</td>\n",
       "      <td>1.000000</td>\n",
       "      <td>48.000000</td>\n",
       "      <td>80.0</td>\n",
       "      <td>12.000000</td>\n",
       "      <td>491.250000</td>\n",
       "      <td>0.000000</td>\n",
       "      <td>2.000000</td>\n",
       "      <td>1.0</td>\n",
       "      <td>0.000000</td>\n",
       "    </tr>\n",
       "    <tr>\n",
       "      <th>50%</th>\n",
       "      <td>10.000000</td>\n",
       "      <td>5.000000</td>\n",
       "      <td>7.000000</td>\n",
       "      <td>3.000000</td>\n",
       "      <td>3.000000</td>\n",
       "      <td>14235.500000</td>\n",
       "      <td>2.000000</td>\n",
       "      <td>36.000000</td>\n",
       "      <td>4919.000000</td>\n",
       "      <td>802.000000</td>\n",
       "      <td>2.000000</td>\n",
       "      <td>66.000000</td>\n",
       "      <td>80.0</td>\n",
       "      <td>14.000000</td>\n",
       "      <td>1020.500000</td>\n",
       "      <td>1.000000</td>\n",
       "      <td>3.000000</td>\n",
       "      <td>1.0</td>\n",
       "      <td>1.000000</td>\n",
       "    </tr>\n",
       "    <tr>\n",
       "      <th>75%</th>\n",
       "      <td>15.000000</td>\n",
       "      <td>9.000000</td>\n",
       "      <td>14.000000</td>\n",
       "      <td>7.000000</td>\n",
       "      <td>7.000000</td>\n",
       "      <td>20461.500000</td>\n",
       "      <td>3.000000</td>\n",
       "      <td>43.000000</td>\n",
       "      <td>8379.000000</td>\n",
       "      <td>1157.000000</td>\n",
       "      <td>4.000000</td>\n",
       "      <td>83.750000</td>\n",
       "      <td>80.0</td>\n",
       "      <td>18.000000</td>\n",
       "      <td>1555.750000</td>\n",
       "      <td>3.000000</td>\n",
       "      <td>3.000000</td>\n",
       "      <td>1.0</td>\n",
       "      <td>1.000000</td>\n",
       "    </tr>\n",
       "    <tr>\n",
       "      <th>max</th>\n",
       "      <td>40.000000</td>\n",
       "      <td>40.000000</td>\n",
       "      <td>29.000000</td>\n",
       "      <td>18.000000</td>\n",
       "      <td>17.000000</td>\n",
       "      <td>26999.000000</td>\n",
       "      <td>5.000000</td>\n",
       "      <td>60.000000</td>\n",
       "      <td>19999.000000</td>\n",
       "      <td>1499.000000</td>\n",
       "      <td>9.000000</td>\n",
       "      <td>100.000000</td>\n",
       "      <td>80.0</td>\n",
       "      <td>25.000000</td>\n",
       "      <td>2068.000000</td>\n",
       "      <td>15.000000</td>\n",
       "      <td>6.000000</td>\n",
       "      <td>1.0</td>\n",
       "      <td>3.000000</td>\n",
       "    </tr>\n",
       "  </tbody>\n",
       "</table>\n",
       "</div>"
      ],
      "text/plain": [
       "       TotalWorkingYears  YearsAtCompany  DistanceFromHome  \\\n",
       "count        1470.000000     1470.000000       1470.000000   \n",
       "mean           11.279592        7.008163          9.192517   \n",
       "std             7.780782        6.126525          8.106864   \n",
       "min             0.000000        0.000000          1.000000   \n",
       "25%             6.000000        3.000000          2.000000   \n",
       "50%            10.000000        5.000000          7.000000   \n",
       "75%            15.000000        9.000000         14.000000   \n",
       "max            40.000000       40.000000         29.000000   \n",
       "\n",
       "       YearsInCurrentRole  YearsWithCurrManager   MonthlyRate     JobLevel  \\\n",
       "count         1470.000000           1470.000000   1470.000000  1470.000000   \n",
       "mean             4.229252              4.123129  14313.103401     2.063946   \n",
       "std              3.623137              3.568136   7117.786044     1.106940   \n",
       "min              0.000000              0.000000   2094.000000     1.000000   \n",
       "25%              2.000000              2.000000   8047.000000     1.000000   \n",
       "50%              3.000000              3.000000  14235.500000     2.000000   \n",
       "75%              7.000000              7.000000  20461.500000     3.000000   \n",
       "max             18.000000             17.000000  26999.000000     5.000000   \n",
       "\n",
       "               Age  MonthlyIncome    DailyRate  NumCompaniesWorked  \\\n",
       "count  1470.000000    1470.000000  1470.000000         1470.000000   \n",
       "mean     36.923810    6502.931293   802.485714            2.693197   \n",
       "std       9.135373    4707.956783   403.509100            2.498009   \n",
       "min      18.000000    1009.000000   102.000000            0.000000   \n",
       "25%      30.000000    2911.000000   465.000000            1.000000   \n",
       "50%      36.000000    4919.000000   802.000000            2.000000   \n",
       "75%      43.000000    8379.000000  1157.000000            4.000000   \n",
       "max      60.000000   19999.000000  1499.000000            9.000000   \n",
       "\n",
       "        HourlyRate  StandardHours  PercentSalaryHike  EmployeeNumber  \\\n",
       "count  1470.000000         1470.0        1470.000000     1470.000000   \n",
       "mean     65.891156           80.0          15.209524     1024.865306   \n",
       "std      20.329428            0.0           3.659938      602.024335   \n",
       "min      30.000000           80.0          11.000000        1.000000   \n",
       "25%      48.000000           80.0          12.000000      491.250000   \n",
       "50%      66.000000           80.0          14.000000     1020.500000   \n",
       "75%      83.750000           80.0          18.000000     1555.750000   \n",
       "max     100.000000           80.0          25.000000     2068.000000   \n",
       "\n",
       "       YearsSinceLastPromotion  TrainingTimesLastYear  EmployeeCount  \\\n",
       "count              1470.000000            1470.000000         1470.0   \n",
       "mean                  2.187755               2.799320            1.0   \n",
       "std                   3.222430               1.289271            0.0   \n",
       "min                   0.000000               0.000000            1.0   \n",
       "25%                   0.000000               2.000000            1.0   \n",
       "50%                   1.000000               3.000000            1.0   \n",
       "75%                   3.000000               3.000000            1.0   \n",
       "max                  15.000000               6.000000            1.0   \n",
       "\n",
       "       StockOptionLevel  \n",
       "count       1470.000000  \n",
       "mean           0.793878  \n",
       "std            0.852077  \n",
       "min            0.000000  \n",
       "25%            0.000000  \n",
       "50%            1.000000  \n",
       "75%            1.000000  \n",
       "max            3.000000  "
      ]
     },
     "execution_count": 16,
     "metadata": {},
     "output_type": "execute_result"
    }
   ],
   "source": [
    "empattr[empattr_numerical_cols].describe()"
   ]
  },
  {
   "cell_type": "code",
   "execution_count": 17,
   "id": "2d0e33a8",
   "metadata": {},
   "outputs": [
    {
     "data": {
      "image/png": "[encoded data removed]",
      "text/plain": [
       "<Figure size 720x432 with 3 Axes>"
      ]
     },
     "metadata": {
      "needs_background": "light"
     },
     "output_type": "display_data"
    }
   ],
   "source": [
    "fig, ax = plt.subplots(1,3, figsize = (10, 6))\n",
    "plt.subplot(1,3,1)\n",
    "plot_figure(empattr, 'Age', 'Age', None, 'hist')\n",
    "plt.subplot(1,3,2)\n",
    "plot_figure(empattr, 'YearsSinceLastPromotion', 'YearsSinceLastPromotion', None, 'hist')\n",
    "plt.subplot(1,3,3)\n",
    "plot_figure(empattr, 'DistanceFromHome', 'DistanceFromHome', None, 'hist')"
   ]
  },
  {
   "cell_type": "code",
   "execution_count": 18,
   "id": "88b7ad08",
   "metadata": {},
   "outputs": [
    {
     "data": {
      "image/png": "[encoded data removed]",
      "text/plain": [
       "<Figure size 432x288 with 1 Axes>"
      ]
     },
     "metadata": {
      "needs_background": "light"
     },
     "output_type": "display_data"
    }
   ],
   "source": [
    "plot_figure(empattr, 'Age', fig_type = 'boxplot', response_var = 'Attrition')"
   ]
  },
  {
   "cell_type": "code",
   "execution_count": 19,
   "id": "9468a5e3",
   "metadata": {},
   "outputs": [
    {
     "data": {
      "image/png": "[encoded data removed]",
      "text/plain": [
       "<Figure size 432x288 with 1 Axes>"
      ]
     },
     "metadata": {
      "needs_background": "light"
     },
     "output_type": "display_data"
    }
   ],
   "source": [
    "plot_figure(empattr, 'YearsSinceLastPromotion', fig_type = 'boxplot', response_var = 'Attrition')"
   ]
  },
  {
   "cell_type": "code",
   "execution_count": 20,
   "id": "bfbb9888",
   "metadata": {},
   "outputs": [
    {
     "data": {
      "image/png": "[encoded data removed]",
      "text/plain": [
       "<Figure size 432x288 with 1 Axes>"
      ]
     },
     "metadata": {
      "needs_background": "light"
     },
     "output_type": "display_data"
    }
   ],
   "source": [
    "plot_figure(empattr, 'DistanceFromHome', fig_type = 'boxplot', response_var = 'Attrition')"
   ]
  },
  {
   "cell_type": "markdown",
   "id": "37339807",
   "metadata": {},
   "source": [
    "Boxplots allow us to see the center and spread of our data across groups. In the graphs above, we looked at the relationship of the response, Attrition, with the three predictors of interest to see if any appear to have a noticeable relationship. Age and DistanceFromHome both seem to have slightly different centers and roughly proportional spread (possible relationship?). \n",
    "\n",
    "However, we have to keep in mind that these plots show us the individual bivariate relationship between attrition and each predictor. In a multiple regression setting (whether it be linear, poisson, logistic, etc.), we also have to be aware of the effects of multicollinearity and how it could impact the sign, size, and significance of our estimates. "
   ]
  },
  {
   "cell_type": "markdown",
   "id": "e80c81e5",
   "metadata": {},
   "source": [
    "Let's suppose that the variables age, YearsSinceLastPromotion, and DistanceFromHome would all provide predictive power  for whether or not an employee will leave the company. \n",
    "\n",
    "We can run a logistic regression model using these three variables and assess if the model provides accurate predictions. \n",
    "\n",
    "Otherwise, if not we can potentially consider a full model with all of the available predicting variables and see if a test for a subset of coefficients would be statistically significant.\n",
    "\n",
    "If so, then we can proceed with using variable selection techniques to find the best subset of coefficients that yield accurate predictions subject to AIC, BIC, or Mallow's Cp."
   ]
  },
  {
   "cell_type": "markdown",
   "id": "a96fff4b",
   "metadata": {},
   "source": [
    "# Logistic Regression"
   ]
  },
  {
   "cell_type": "markdown",
   "id": "fe1b1a9c",
   "metadata": {},
   "source": [
    "In Logistic Regression, we assume three things, \n",
    "<br/>\n",
    "<ul>\n",
    "  <li>The logit of our response variable (the log odds) are a linear combination of our predictors and their coefficients</li>\n",
    "  <li>Our responses are independent random variables</li>\n",
    "  <li>Our link function is the logit function (the log odds) since it is possible to use other link functions like the probit function etc.</li>\n",
    "</ul>\n",
    "\n",
    "## Submodel with full data"
   ]
  },
  {
   "cell_type": "code",
   "execution_count": 21,
   "id": "7f45a38c",
   "metadata": {},
   "outputs": [],
   "source": [
    "modelformula = 'Attrition ~ Age + YearsSinceLastPromotion + DistanceFromHome'"
   ]
  },
  {
   "cell_type": "code",
   "execution_count": 22,
   "id": "774418df",
   "metadata": {},
   "outputs": [
    {
     "data": {
      "text/html": [
       "<table class=\"simpletable\">\n",
       "<caption>Generalized Linear Model Regression Results</caption>\n",
       "<tr>\n",
       "  <th>Dep. Variable:</th>   <td>['Attrition[No]', 'Attrition[Yes]']</td> <th>  No. Observations:  </th>  <td>  1470</td> \n",
       "</tr>\n",
       "<tr>\n",
       "  <th>Model:</th>                           <td>GLM</td>                 <th>  Df Residuals:      </th>  <td>  1466</td> \n",
       "</tr>\n",
       "<tr>\n",
       "  <th>Model Family:</th>                 <td>Binomial</td>               <th>  Df Model:          </th>  <td>     3</td> \n",
       "</tr>\n",
       "<tr>\n",
       "  <th>Link Function:</th>                  <td>logit</td>                <th>  Scale:             </th> <td>  1.0000</td>\n",
       "</tr>\n",
       "<tr>\n",
       "  <th>Method:</th>                         <td>IRLS</td>                 <th>  Log-Likelihood:    </th> <td> -625.05</td>\n",
       "</tr>\n",
       "<tr>\n",
       "  <th>Date:</th>                     <td>Fri, 06 May 2022</td>           <th>  Deviance:          </th> <td>  1250.1</td>\n",
       "</tr>\n",
       "<tr>\n",
       "  <th>Time:</th>                         <td>11:12:06</td>               <th>  Pearson chi2:      </th> <td>1.53e+03</td>\n",
       "</tr>\n",
       "<tr>\n",
       "  <th>No. Iterations:</th>                   <td>5</td>                  <th>                     </th>     <td> </td>   \n",
       "</tr>\n",
       "<tr>\n",
       "  <th>Covariance Type:</th>              <td>nonrobust</td>              <th>                     </th>     <td> </td>   \n",
       "</tr>\n",
       "</table>\n",
       "<table class=\"simpletable\">\n",
       "<tr>\n",
       "             <td></td>                <th>coef</th>     <th>std err</th>      <th>z</th>      <th>P>|z|</th>  <th>[0.025</th>    <th>0.975]</th>  \n",
       "</tr>\n",
       "<tr>\n",
       "  <th>Intercept</th>               <td>    0.0274</td> <td>    0.318</td> <td>    0.086</td> <td> 0.931</td> <td>   -0.595</td> <td>    0.650</td>\n",
       "</tr>\n",
       "<tr>\n",
       "  <th>Age</th>                     <td>    0.0529</td> <td>    0.009</td> <td>    5.881</td> <td> 0.000</td> <td>    0.035</td> <td>    0.071</td>\n",
       "</tr>\n",
       "<tr>\n",
       "  <th>YearsSinceLastPromotion</th> <td>   -0.0027</td> <td>    0.025</td> <td>   -0.108</td> <td> 0.914</td> <td>   -0.051</td> <td>    0.046</td>\n",
       "</tr>\n",
       "<tr>\n",
       "  <th>DistanceFromHome</th>        <td>   -0.0258</td> <td>    0.009</td> <td>   -3.034</td> <td> 0.002</td> <td>   -0.043</td> <td>   -0.009</td>\n",
       "</tr>\n",
       "</table>"
      ],
      "text/plain": [
       "<class 'statsmodels.iolib.summary.Summary'>\n",
       "\"\"\"\n",
       "                          Generalized Linear Model Regression Results                          \n",
       "===============================================================================================\n",
       "Dep. Variable:     ['Attrition[No]', 'Attrition[Yes]']   No. Observations:                 1470\n",
       "Model:                                             GLM   Df Residuals:                     1466\n",
       "Model Family:                                 Binomial   Df Model:                            3\n",
       "Link Function:                                   logit   Scale:                          1.0000\n",
       "Method:                                           IRLS   Log-Likelihood:                -625.05\n",
       "Date:                                 Fri, 06 May 2022   Deviance:                       1250.1\n",
       "Time:                                         11:12:06   Pearson chi2:                 1.53e+03\n",
       "No. Iterations:                                      5                                         \n",
       "Covariance Type:                             nonrobust                                         \n",
       "===========================================================================================\n",
       "                              coef    std err          z      P>|z|      [0.025      0.975]\n",
       "-------------------------------------------------------------------------------------------\n",
       "Intercept                   0.0274      0.318      0.086      0.931      -0.595       0.650\n",
       "Age                         0.0529      0.009      5.881      0.000       0.035       0.071\n",
       "YearsSinceLastPromotion    -0.0027      0.025     -0.108      0.914      -0.051       0.046\n",
       "DistanceFromHome           -0.0258      0.009     -3.034      0.002      -0.043      -0.009\n",
       "===========================================================================================\n",
       "\"\"\""
      ]
     },
     "execution_count": 22,
     "metadata": {},
     "output_type": "execute_result"
    }
   ],
   "source": [
    "smf_model = smf.glm(formula = modelformula, data=empattr, family=sm.families.Binomial())\n",
    "result = smf_model.fit()\n",
    "result.summary()"
   ]
  },
  {
   "cell_type": "markdown",
   "id": "e1ab58eb",
   "metadata": {},
   "source": [
    "Given an $\\alpha$ threshold of 0.05, we can see that all the p-values for the three chosen predictors are indeed less than the threshold and therefore statistically significant."
   ]
  },
  {
   "cell_type": "markdown",
   "id": "8550afa6",
   "metadata": {},
   "source": [
    "## Divide up the data intro training and test sets"
   ]
  },
  {
   "cell_type": "code",
   "execution_count": 24,
   "id": "2e7e94c2",
   "metadata": {},
   "outputs": [],
   "source": [
    "# Re-map the Yes's to 1s and No's to 0s\n",
    "# response = empattr['Attrition'].apply(lambda x: 1 if x.upper() == 'YES' else 0)"
   ]
  },
  {
   "cell_type": "code",
   "execution_count": 25,
   "id": "1657b98d",
   "metadata": {},
   "outputs": [],
   "source": [
    "predictors = empattr[['Age', 'YearsSinceLastPromotion', 'DistanceFromHome']]"
   ]
  },
  {
   "cell_type": "code",
   "execution_count": 26,
   "id": "5221164d",
   "metadata": {},
   "outputs": [],
   "source": [
    "response = empattr[['Attrition']]"
   ]
  },
  {
   "cell_type": "code",
   "execution_count": 27,
   "id": "07b4762a",
   "metadata": {},
   "outputs": [],
   "source": [
    "# Splitting the dataset into training and testing set\n",
    "xtrain, xtest, ytrain, ytest = train_test_split(predictors, response, test_size = 0.2, random_state = 0)"
   ]
  },
  {
   "cell_type": "code",
   "execution_count": 28,
   "id": "0f2c9549",
   "metadata": {},
   "outputs": [],
   "source": [
    "# Merging the training predictor variables back with the training response variables (because out smf.glm() model \n",
    "# will be referencing both)\n",
    "xtrain2 = xtrain.merge(ytrain, left_index = True, right_index = True)"
   ]
  },
  {
   "cell_type": "code",
   "execution_count": 29,
   "id": "14900e3b",
   "metadata": {},
   "outputs": [],
   "source": [
    "smf_model_train = smf.glm(formula = modelformula, data=xtrain2, family=sm.families.Binomial())"
   ]
  },
  {
   "cell_type": "code",
   "execution_count": 30,
   "id": "b4989453",
   "metadata": {},
   "outputs": [],
   "source": [
    "smf_model_train_result = smf_model_train.fit()"
   ]
  },
  {
   "cell_type": "code",
   "execution_count": 31,
   "id": "ddd19359",
   "metadata": {},
   "outputs": [
    {
     "data": {
      "text/html": [
       "<table class=\"simpletable\">\n",
       "<caption>Generalized Linear Model Regression Results</caption>\n",
       "<tr>\n",
       "  <th>Dep. Variable:</th>   <td>['Attrition[No]', 'Attrition[Yes]']</td> <th>  No. Observations:  </th>  <td>  1176</td> \n",
       "</tr>\n",
       "<tr>\n",
       "  <th>Model:</th>                           <td>GLM</td>                 <th>  Df Residuals:      </th>  <td>  1172</td> \n",
       "</tr>\n",
       "<tr>\n",
       "  <th>Model Family:</th>                 <td>Binomial</td>               <th>  Df Model:          </th>  <td>     3</td> \n",
       "</tr>\n",
       "<tr>\n",
       "  <th>Link Function:</th>                  <td>logit</td>                <th>  Scale:             </th> <td>  1.0000</td>\n",
       "</tr>\n",
       "<tr>\n",
       "  <th>Method:</th>                         <td>IRLS</td>                 <th>  Log-Likelihood:    </th> <td> -494.31</td>\n",
       "</tr>\n",
       "<tr>\n",
       "  <th>Date:</th>                     <td>Fri, 06 May 2022</td>           <th>  Deviance:          </th> <td>  988.62</td>\n",
       "</tr>\n",
       "<tr>\n",
       "  <th>Time:</th>                         <td>11:12:06</td>               <th>  Pearson chi2:      </th> <td>1.24e+03</td>\n",
       "</tr>\n",
       "<tr>\n",
       "  <th>No. Iterations:</th>                   <td>5</td>                  <th>                     </th>     <td> </td>   \n",
       "</tr>\n",
       "<tr>\n",
       "  <th>Covariance Type:</th>              <td>nonrobust</td>              <th>                     </th>     <td> </td>   \n",
       "</tr>\n",
       "</table>\n",
       "<table class=\"simpletable\">\n",
       "<tr>\n",
       "             <td></td>                <th>coef</th>     <th>std err</th>      <th>z</th>      <th>P>|z|</th>  <th>[0.025</th>    <th>0.975]</th>  \n",
       "</tr>\n",
       "<tr>\n",
       "  <th>Intercept</th>               <td>   -0.2016</td> <td>    0.360</td> <td>   -0.559</td> <td> 0.576</td> <td>   -0.908</td> <td>    0.505</td>\n",
       "</tr>\n",
       "<tr>\n",
       "  <th>Age</th>                     <td>    0.0592</td> <td>    0.010</td> <td>    5.737</td> <td> 0.000</td> <td>    0.039</td> <td>    0.079</td>\n",
       "</tr>\n",
       "<tr>\n",
       "  <th>YearsSinceLastPromotion</th> <td>    0.0038</td> <td>    0.029</td> <td>    0.132</td> <td> 0.895</td> <td>   -0.053</td> <td>    0.060</td>\n",
       "</tr>\n",
       "<tr>\n",
       "  <th>DistanceFromHome</th>        <td>   -0.0240</td> <td>    0.010</td> <td>   -2.504</td> <td> 0.012</td> <td>   -0.043</td> <td>   -0.005</td>\n",
       "</tr>\n",
       "</table>"
      ],
      "text/plain": [
       "<class 'statsmodels.iolib.summary.Summary'>\n",
       "\"\"\"\n",
       "                          Generalized Linear Model Regression Results                          \n",
       "===============================================================================================\n",
       "Dep. Variable:     ['Attrition[No]', 'Attrition[Yes]']   No. Observations:                 1176\n",
       "Model:                                             GLM   Df Residuals:                     1172\n",
       "Model Family:                                 Binomial   Df Model:                            3\n",
       "Link Function:                                   logit   Scale:                          1.0000\n",
       "Method:                                           IRLS   Log-Likelihood:                -494.31\n",
       "Date:                                 Fri, 06 May 2022   Deviance:                       988.62\n",
       "Time:                                         11:12:06   Pearson chi2:                 1.24e+03\n",
       "No. Iterations:                                      5                                         \n",
       "Covariance Type:                             nonrobust                                         \n",
       "===========================================================================================\n",
       "                              coef    std err          z      P>|z|      [0.025      0.975]\n",
       "-------------------------------------------------------------------------------------------\n",
       "Intercept                  -0.2016      0.360     -0.559      0.576      -0.908       0.505\n",
       "Age                         0.0592      0.010      5.737      0.000       0.039       0.079\n",
       "YearsSinceLastPromotion     0.0038      0.029      0.132      0.895      -0.053       0.060\n",
       "DistanceFromHome           -0.0240      0.010     -2.504      0.012      -0.043      -0.005\n",
       "===========================================================================================\n",
       "\"\"\""
      ]
     },
     "execution_count": 31,
     "metadata": {},
     "output_type": "execute_result"
    }
   ],
   "source": [
    "smf_model_train_result.summary()"
   ]
  },
  {
   "cell_type": "markdown",
   "id": "8d5b8504",
   "metadata": {},
   "source": [
    "### Testing for overall regression"
   ]
  },
  {
   "cell_type": "code",
   "execution_count": 43,
   "id": "139f45b8",
   "metadata": {},
   "outputs": [],
   "source": [
    "from scipy.stats.distributions import chi2"
   ]
  },
  {
   "cell_type": "markdown",
   "id": "7be369b9",
   "metadata": {},
   "source": [
    "By taking the difference between our null deviance and deviance statistic, we are able to assess whether not the model itself is statistically significant.\n",
    "\n",
    "Recall that in logistic regression, we maximize the log-likelihood function under the model with no parameters (so intercept only) and we maximize the log-likelihood function under the model with all of the predictors of interest (so Age, DistanceFromHome, and YearsSinceLastPromotion). \n",
    "\n",
    "We then take the difference of the two models (so the intercept only model would just be the null deviance) and calculate their differences. This yields a $\\chi^2$ statistic with degrees of freedom equal to the number of predictors in our model: 3.\n",
    "\n",
    "Like the F-test for a multiple linear regression model, the null hypothesis is that all of the coefficient estimates in our full model are 0 versus the alternative hypothesis that **atleast 1** is non-zero.\n"
   ]
  },
  {
   "cell_type": "code",
   "execution_count": 59,
   "id": "d4bbc899",
   "metadata": {},
   "outputs": [
    {
     "name": "stdout",
     "output_type": "stream",
     "text": [
      "Our p-value is 9.457764088890004e-10. \n",
      " \n",
      "This is much lower than the typical alpha threshold of 0.05. At this level, our model is statiscally significant \n",
      "because atleast one of the predictors included in the model has explanatory power with respect to Attrition\n"
     ]
    }
   ],
   "source": [
    "# Assuming large data\n",
    "overallpvalue = chi2.sf(smf_model_train_result.null_deviance - smf_model_train_result.deviance, 3)\n",
    "\n",
    "print(f\"\"\"Our p-value is {overallpvalue}. \\n \n",
    "This is much lower than the typical alpha threshold of 0.05. At this level, our model is statiscally significant \n",
    "because atleast one of the predictors included in the model has explanatory power with respect to Attrition\"\"\")\n",
    "# Alternative way to comput the p(chi^2 > smf_model_train_result.null_deviance - smf_model_train_result.deviance)\n",
    "# 1-chi2.cdf(smf_model_train_result.null_deviance - smf_model_train_result.deviance, 3)"
   ]
  },
  {
   "cell_type": "code",
   "execution_count": 32,
   "id": "53bf04a9",
   "metadata": {},
   "outputs": [],
   "source": [
    "# Getting the fitted values from the training set\n",
    "fitted_xtrain2 = smf_model_train_result.fittedvalues\n",
    "\n",
    "# Recoding the results (probabilities) into 0 for No and 1 for Yes\n",
    "fitted_xtrain2_recoded = fitted_xtrain2.apply(lambda x: 0 if x > 0.5 else 1)"
   ]
  },
  {
   "cell_type": "code",
   "execution_count": 33,
   "id": "877adf54",
   "metadata": {},
   "outputs": [
    {
     "data": {
      "text/plain": [
       "Counter({'No': 988, 'Yes': 188})"
      ]
     },
     "execution_count": 33,
     "metadata": {},
     "output_type": "execute_result"
    }
   ],
   "source": [
    "# Getting a quick look at the number of Nos (0) and Yes (1)\n",
    "Counter(ytrain['Attrition'].to_list())"
   ]
  },
  {
   "cell_type": "code",
   "execution_count": 34,
   "id": "4c6430a3",
   "metadata": {},
   "outputs": [
    {
     "data": {
      "text/plain": [
       "Counter({0: 1176})"
      ]
     },
     "execution_count": 34,
     "metadata": {},
     "output_type": "execute_result"
    }
   ],
   "source": [
    "# The # of No's and Yes's in the fitted_xtrain_recoded set given our threshold above which was 0.5\n",
    "Counter(fitted_xtrain2_recoded)"
   ]
  },
  {
   "cell_type": "markdown",
   "id": "dd495f25",
   "metadata": {},
   "source": [
    "The model with just the three predictors - age, distance from home, and years since last promotion- predicted all of the values to be \"no\". In other words, it predicted 988/(988+188) or 84% of the values correctly. "
   ]
  },
  {
   "cell_type": "markdown",
   "id": "9a9246bc",
   "metadata": {},
   "source": [
    "## Making a prediction"
   ]
  },
  {
   "cell_type": "code",
   "execution_count": 37,
   "id": "1a8a81cd",
   "metadata": {},
   "outputs": [],
   "source": [
    "predictions_test = smf_model_train_result.predict(xtest)"
   ]
  },
  {
   "cell_type": "code",
   "execution_count": 38,
   "id": "f55c0174",
   "metadata": {},
   "outputs": [],
   "source": [
    "# Apply a threshold \n",
    "\n",
    "# Assuming 50/50 chance\n",
    "\n",
    "th = 0.5\n",
    "\n",
    "predictions_results = predictions_test.apply(lambda x: 0 if x > th else 1)"
   ]
  },
  {
   "cell_type": "code",
   "execution_count": 39,
   "id": "577a05c6",
   "metadata": {},
   "outputs": [
    {
     "data": {
      "text/plain": [
       "Counter({0: 294})"
      ]
     },
     "execution_count": 39,
     "metadata": {},
     "output_type": "execute_result"
    }
   ],
   "source": [
    "Counter(predictions_results)"
   ]
  },
  {
   "cell_type": "code",
   "execution_count": 40,
   "id": "7b46c8ec",
   "metadata": {},
   "outputs": [
    {
     "data": {
      "text/plain": [
       "Counter({'No': 245, 'Yes': 49})"
      ]
     },
     "execution_count": 40,
     "metadata": {},
     "output_type": "execute_result"
    }
   ],
   "source": [
    "Counter(ytest['Attrition'].to_list())"
   ]
  },
  {
   "cell_type": "code",
   "execution_count": 47,
   "id": "085ac4c6",
   "metadata": {},
   "outputs": [],
   "source": [
    "predictions_results_recoded = predictions_results.apply(lambda x: 'No' if x == 0 else 'Yes')"
   ]
  },
  {
   "cell_type": "code",
   "execution_count": 48,
   "id": "3c393c50",
   "metadata": {},
   "outputs": [
    {
     "data": {
      "text/plain": [
       "Counter({'No': 294})"
      ]
     },
     "execution_count": 48,
     "metadata": {},
     "output_type": "execute_result"
    }
   ],
   "source": [
    "Counter(predictions_results_recoded)"
   ]
  },
  {
   "cell_type": "markdown",
   "id": "5a00e345",
   "metadata": {},
   "source": [
    "Our model predicted all of the values to be 'No' in this situation (similar to its behavior with our training set). Effectively, that means that our predictions were 83% accurate. In machine learning, we would expect to see similar results as we move from our training sample to our testing sample when we are working with a model with a few predictors. As we add more predictor variables to the dataset, we might end up with a more accurate result during the training phase but suffer from poor performance in the testing phase. "
   ]
  },
  {
   "cell_type": "code",
   "execution_count": null,
   "id": "926164f2",
   "metadata": {},
   "outputs": [],
   "source": []
  }
 ],
 "metadata": {
  "kernelspec": {
   "display_name": "Python 3 (ipykernel)",
   "language": "python",
   "name": "python3"
  },
  "language_info": {
   "codemirror_mode": {
    "name": "ipython",
    "version": 3
   },
   "file_extension": ".py",
   "mimetype": "text/x-python",
   "name": "python",
   "nbconvert_exporter": "python",
   "pygments_lexer": "ipython3",
   "version": "3.9.7"
  }
 },
 "nbformat": 4,
 "nbformat_minor": 5
}
