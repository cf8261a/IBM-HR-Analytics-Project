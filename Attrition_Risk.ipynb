{
 "cells": [
  {
   "cell_type": "markdown",
   "id": "a4d6423e",
   "metadata": {},
   "source": [
    "# **Attrition Risk Modeling**\n",
    "<br/>by Christian Fernandes\n",
    "\n",
    "Dataset: https://www.kaggle.com/datasets/pavansubhasht/ibm-hr-analytics-attrition-dataset?resource=download"
   ]
  },
  {
   "cell_type": "markdown",
   "id": "01e387ef",
   "metadata": {},
   "source": [
    "## Reading in the data"
   ]
  },
  {
   "cell_type": "code",
   "execution_count": 1,
   "id": "68327cb7",
   "metadata": {},
   "outputs": [],
   "source": [
    "import statsmodels.formula.api as smf\n",
    "import statsmodels.api as sm"
   ]
  },
  {
   "cell_type": "code",
   "execution_count": 2,
   "id": "f7015493",
   "metadata": {},
   "outputs": [],
   "source": [
    "import pandas as pd\n",
    "import numpy as np\n",
    "import matplotlib.pyplot as plt\n",
    "from sklearn.linear_model import LogisticRegression\n",
    "from sklearn.metrics import classification_report, confusion_matrix\n",
    "from sklearn.model_selection import train_test_split\n",
    "from collections import Counter"
   ]
  },
  {
   "cell_type": "code",
   "execution_count": 3,
   "id": "5f5196c4",
   "metadata": {},
   "outputs": [],
   "source": [
    "empattr = pd.read_csv('WA_Fn-UseC_-HR-Employee-Attrition.csv')"
   ]
  },
  {
   "cell_type": "code",
   "execution_count": 4,
   "id": "1284e9a6",
   "metadata": {
    "scrolled": true
   },
   "outputs": [
    {
     "data": {
      "text/html": [
       "<div>\n",
       "<style scoped>\n",
       "    .dataframe tbody tr th:only-of-type {\n",
       "        vertical-align: middle;\n",
       "    }\n",
       "\n",
       "    .dataframe tbody tr th {\n",
       "        vertical-align: top;\n",
       "    }\n",
       "\n",
       "    .dataframe thead th {\n",
       "        text-align: right;\n",
       "    }\n",
       "</style>\n",
       "<table border=\"1\" class=\"dataframe\">\n",
       "  <thead>\n",
       "    <tr style=\"text-align: right;\">\n",
       "      <th></th>\n",
       "      <th>Age</th>\n",
       "      <th>Attrition</th>\n",
       "      <th>BusinessTravel</th>\n",
       "      <th>DailyRate</th>\n",
       "      <th>Department</th>\n",
       "      <th>DistanceFromHome</th>\n",
       "      <th>Education</th>\n",
       "      <th>EducationField</th>\n",
       "      <th>EmployeeCount</th>\n",
       "      <th>EmployeeNumber</th>\n",
       "      <th>...</th>\n",
       "      <th>RelationshipSatisfaction</th>\n",
       "      <th>StandardHours</th>\n",
       "      <th>StockOptionLevel</th>\n",
       "      <th>TotalWorkingYears</th>\n",
       "      <th>TrainingTimesLastYear</th>\n",
       "      <th>WorkLifeBalance</th>\n",
       "      <th>YearsAtCompany</th>\n",
       "      <th>YearsInCurrentRole</th>\n",
       "      <th>YearsSinceLastPromotion</th>\n",
       "      <th>YearsWithCurrManager</th>\n",
       "    </tr>\n",
       "  </thead>\n",
       "  <tbody>\n",
       "    <tr>\n",
       "      <th>554</th>\n",
       "      <td>27</td>\n",
       "      <td>No</td>\n",
       "      <td>Travel_Rarely</td>\n",
       "      <td>975</td>\n",
       "      <td>Research &amp; Development</td>\n",
       "      <td>7</td>\n",
       "      <td>3</td>\n",
       "      <td>Medical</td>\n",
       "      <td>1</td>\n",
       "      <td>764</td>\n",
       "      <td>...</td>\n",
       "      <td>1</td>\n",
       "      <td>80</td>\n",
       "      <td>0</td>\n",
       "      <td>9</td>\n",
       "      <td>2</td>\n",
       "      <td>1</td>\n",
       "      <td>7</td>\n",
       "      <td>6</td>\n",
       "      <td>0</td>\n",
       "      <td>7</td>\n",
       "    </tr>\n",
       "    <tr>\n",
       "      <th>681</th>\n",
       "      <td>38</td>\n",
       "      <td>No</td>\n",
       "      <td>Travel_Rarely</td>\n",
       "      <td>1333</td>\n",
       "      <td>Research &amp; Development</td>\n",
       "      <td>1</td>\n",
       "      <td>3</td>\n",
       "      <td>Technical Degree</td>\n",
       "      <td>1</td>\n",
       "      <td>950</td>\n",
       "      <td>...</td>\n",
       "      <td>2</td>\n",
       "      <td>80</td>\n",
       "      <td>1</td>\n",
       "      <td>15</td>\n",
       "      <td>3</td>\n",
       "      <td>3</td>\n",
       "      <td>15</td>\n",
       "      <td>12</td>\n",
       "      <td>5</td>\n",
       "      <td>11</td>\n",
       "    </tr>\n",
       "    <tr>\n",
       "      <th>76</th>\n",
       "      <td>35</td>\n",
       "      <td>No</td>\n",
       "      <td>Travel_Rarely</td>\n",
       "      <td>776</td>\n",
       "      <td>Sales</td>\n",
       "      <td>1</td>\n",
       "      <td>4</td>\n",
       "      <td>Marketing</td>\n",
       "      <td>1</td>\n",
       "      <td>100</td>\n",
       "      <td>...</td>\n",
       "      <td>2</td>\n",
       "      <td>80</td>\n",
       "      <td>0</td>\n",
       "      <td>16</td>\n",
       "      <td>2</td>\n",
       "      <td>3</td>\n",
       "      <td>15</td>\n",
       "      <td>13</td>\n",
       "      <td>2</td>\n",
       "      <td>8</td>\n",
       "    </tr>\n",
       "  </tbody>\n",
       "</table>\n",
       "<p>3 rows × 35 columns</p>\n",
       "</div>"
      ],
      "text/plain": [
       "     Age Attrition BusinessTravel  DailyRate              Department  \\\n",
       "554   27        No  Travel_Rarely        975  Research & Development   \n",
       "681   38        No  Travel_Rarely       1333  Research & Development   \n",
       "76    35        No  Travel_Rarely        776                   Sales   \n",
       "\n",
       "     DistanceFromHome  Education    EducationField  EmployeeCount  \\\n",
       "554                 7          3           Medical              1   \n",
       "681                 1          3  Technical Degree              1   \n",
       "76                  1          4         Marketing              1   \n",
       "\n",
       "     EmployeeNumber  ...  RelationshipSatisfaction StandardHours  \\\n",
       "554             764  ...                         1            80   \n",
       "681             950  ...                         2            80   \n",
       "76              100  ...                         2            80   \n",
       "\n",
       "     StockOptionLevel  TotalWorkingYears  TrainingTimesLastYear  \\\n",
       "554                 0                  9                      2   \n",
       "681                 1                 15                      3   \n",
       "76                  0                 16                      2   \n",
       "\n",
       "    WorkLifeBalance  YearsAtCompany YearsInCurrentRole  \\\n",
       "554               1               7                  6   \n",
       "681               3              15                 12   \n",
       "76                3              15                 13   \n",
       "\n",
       "     YearsSinceLastPromotion  YearsWithCurrManager  \n",
       "554                        0                     7  \n",
       "681                        5                    11  \n",
       "76                         2                     8  \n",
       "\n",
       "[3 rows x 35 columns]"
      ]
     },
     "execution_count": 4,
     "metadata": {},
     "output_type": "execute_result"
    }
   ],
   "source": [
    "empattr.sample(3)"
   ]
  },
  {
   "cell_type": "code",
   "execution_count": 5,
   "id": "bf777be6",
   "metadata": {
    "scrolled": true
   },
   "outputs": [
    {
     "data": {
      "text/plain": [
       "Age                          int64\n",
       "Attrition                   object\n",
       "BusinessTravel              object\n",
       "DailyRate                    int64\n",
       "Department                  object\n",
       "DistanceFromHome             int64\n",
       "Education                    int64\n",
       "EducationField              object\n",
       "EmployeeCount                int64\n",
       "EmployeeNumber               int64\n",
       "EnvironmentSatisfaction      int64\n",
       "Gender                      object\n",
       "HourlyRate                   int64\n",
       "JobInvolvement               int64\n",
       "JobLevel                     int64\n",
       "JobRole                     object\n",
       "JobSatisfaction              int64\n",
       "MaritalStatus               object\n",
       "MonthlyIncome                int64\n",
       "MonthlyRate                  int64\n",
       "NumCompaniesWorked           int64\n",
       "Over18                      object\n",
       "OverTime                    object\n",
       "PercentSalaryHike            int64\n",
       "PerformanceRating            int64\n",
       "RelationshipSatisfaction     int64\n",
       "StandardHours                int64\n",
       "StockOptionLevel             int64\n",
       "TotalWorkingYears            int64\n",
       "TrainingTimesLastYear        int64\n",
       "WorkLifeBalance              int64\n",
       "YearsAtCompany               int64\n",
       "YearsInCurrentRole           int64\n",
       "YearsSinceLastPromotion      int64\n",
       "YearsWithCurrManager         int64\n",
       "dtype: object"
      ]
     },
     "execution_count": 5,
     "metadata": {},
     "output_type": "execute_result"
    }
   ],
   "source": [
    "empattr.dtypes"
   ]
  },
  {
   "cell_type": "code",
   "execution_count": 6,
   "id": "37df91df",
   "metadata": {},
   "outputs": [],
   "source": [
    "objcols = [c for c in empattr.columns if empattr[c].dtype == 'O']"
   ]
  },
  {
   "cell_type": "code",
   "execution_count": 7,
   "id": "bb46fb39",
   "metadata": {},
   "outputs": [],
   "source": [
    "catcols = [\"Education\", \"EnvironmentSatisfaction\", \"JobInvolvement\", \"JobSatisfaction\", \"PerformanceRating\", \"RelationshipSatisfaction\", \"WorkLifeBalance\"]"
   ]
  },
  {
   "cell_type": "code",
   "execution_count": 8,
   "id": "5051ab2e",
   "metadata": {
    "scrolled": false
   },
   "outputs": [
    {
     "data": {
      "text/plain": [
       "['Attrition',\n",
       " 'BusinessTravel',\n",
       " 'Department',\n",
       " 'EducationField',\n",
       " 'Gender',\n",
       " 'JobRole',\n",
       " 'MaritalStatus',\n",
       " 'Over18',\n",
       " 'OverTime']"
      ]
     },
     "execution_count": 8,
     "metadata": {},
     "output_type": "execute_result"
    }
   ],
   "source": [
    "objcols"
   ]
  },
  {
   "cell_type": "code",
   "execution_count": 9,
   "id": "317a5784",
   "metadata": {},
   "outputs": [
    {
     "data": {
      "text/plain": [
       "set()"
      ]
     },
     "execution_count": 9,
     "metadata": {},
     "output_type": "execute_result"
    }
   ],
   "source": [
    "# Check to see if any of the object type columns are in the categorical column list defined in the IBM metadata\n",
    "# Result is an empty set\n",
    "set(objcols).intersection(set(catcols))"
   ]
  },
  {
   "cell_type": "code",
   "execution_count": 10,
   "id": "5ec1fa5d",
   "metadata": {},
   "outputs": [
    {
     "name": "stdout",
     "output_type": "stream",
     "text": [
      "{'yes': 3, 'no': 2}\n"
     ]
    },
    {
     "data": {
      "text/plain": [
       "<AxesSubplot:>"
      ]
     },
     "execution_count": 10,
     "metadata": {},
     "output_type": "execute_result"
    },
    {
     "data": {
      "image/png": "[encoded data removed]",
      "text/plain": [
       "<Figure size 432x288 with 1 Axes>"
      ]
     },
     "metadata": {
      "needs_background": "light"
     },
     "output_type": "display_data"
    }
   ],
   "source": [
    "temp = dict(Counter(['yes', 'no', 'yes', 'no', 'yes']))\n",
    "print(temp)\n",
    "\n",
    "pd.DataFrame({'category': [k for k in temp], 'numeric': [v for v in temp.values()]}).plot.bar(rot = 0)\n",
    "    "
   ]
  },
  {
   "cell_type": "markdown",
   "id": "a69115c1",
   "metadata": {},
   "source": [
    "## EDA"
   ]
  },
  {
   "cell_type": "code",
   "execution_count": 11,
   "id": "6850614b",
   "metadata": {},
   "outputs": [],
   "source": [
    "def plot_figure(tibble, colname, plot_title = None, xlab = None, ylab = None, fig_type = None):\n",
    "    from collections import Counter\n",
    "    \n",
    "    if fig_type:\n",
    "        if fig_type == 'hist':\n",
    "            tibble[colname].hist(grid = False)\n",
    "        elif fig_type == 'boxplot':\n",
    "            tibble[colname].boxplot(grid = False)\n",
    "        elif fig_type == 'barh':\n",
    "#             temp = dict(Counter(['yes', 'no', 'yes', 'no', 'yes']))\n",
    "#             print(temp)\n",
    "            temp = Counter(tibble[colname])\n",
    "            print(temp)\n",
    "            print(pd.DataFrame({'category': [k for k in temp], 'numeric': [v for v in temp.values()]}))\n",
    "            \n",
    "            pd.DataFrame({'category': [k for k in temp], 'numeric': [v for v in temp.values()]}).plot.bar(rot = 0)\n",
    "            \n",
    "#             print(Counter(tibble[colname]))\n",
    "#             pd.DataFrame(Counter(tibble[colname])).plot.bar(grid = False)\n",
    "#             tibble[colname]\n",
    "        return True\n",
    "    return False"
   ]
  },
  {
   "cell_type": "code",
   "execution_count": 12,
   "id": "95a9a1cd",
   "metadata": {},
   "outputs": [],
   "source": [
    "# Descriptive statistics for the categorical data\n",
    "\n",
    "# First ensure all columns are of the 'object' type - similar to R's as.factor() command\n",
    "empattr_obj = empattr[objcols + catcols].astype(object)"
   ]
  },
  {
   "cell_type": "code",
   "execution_count": 13,
   "id": "1d5bf430",
   "metadata": {},
   "outputs": [
    {
     "data": {
      "text/html": [
       "<div>\n",
       "<style scoped>\n",
       "    .dataframe tbody tr th:only-of-type {\n",
       "        vertical-align: middle;\n",
       "    }\n",
       "\n",
       "    .dataframe tbody tr th {\n",
       "        vertical-align: top;\n",
       "    }\n",
       "\n",
       "    .dataframe thead th {\n",
       "        text-align: right;\n",
       "    }\n",
       "</style>\n",
       "<table border=\"1\" class=\"dataframe\">\n",
       "  <thead>\n",
       "    <tr style=\"text-align: right;\">\n",
       "      <th></th>\n",
       "      <th>Attrition</th>\n",
       "      <th>BusinessTravel</th>\n",
       "      <th>Department</th>\n",
       "      <th>EducationField</th>\n",
       "      <th>Gender</th>\n",
       "      <th>JobRole</th>\n",
       "      <th>MaritalStatus</th>\n",
       "      <th>Over18</th>\n",
       "      <th>OverTime</th>\n",
       "      <th>Education</th>\n",
       "      <th>EnvironmentSatisfaction</th>\n",
       "      <th>JobInvolvement</th>\n",
       "      <th>JobSatisfaction</th>\n",
       "      <th>PerformanceRating</th>\n",
       "      <th>RelationshipSatisfaction</th>\n",
       "      <th>WorkLifeBalance</th>\n",
       "    </tr>\n",
       "  </thead>\n",
       "  <tbody>\n",
       "    <tr>\n",
       "      <th>count</th>\n",
       "      <td>1470</td>\n",
       "      <td>1470</td>\n",
       "      <td>1470</td>\n",
       "      <td>1470</td>\n",
       "      <td>1470</td>\n",
       "      <td>1470</td>\n",
       "      <td>1470</td>\n",
       "      <td>1470</td>\n",
       "      <td>1470</td>\n",
       "      <td>1470</td>\n",
       "      <td>1470</td>\n",
       "      <td>1470</td>\n",
       "      <td>1470</td>\n",
       "      <td>1470</td>\n",
       "      <td>1470</td>\n",
       "      <td>1470</td>\n",
       "    </tr>\n",
       "    <tr>\n",
       "      <th>unique</th>\n",
       "      <td>2</td>\n",
       "      <td>3</td>\n",
       "      <td>3</td>\n",
       "      <td>6</td>\n",
       "      <td>2</td>\n",
       "      <td>9</td>\n",
       "      <td>3</td>\n",
       "      <td>1</td>\n",
       "      <td>2</td>\n",
       "      <td>5</td>\n",
       "      <td>4</td>\n",
       "      <td>4</td>\n",
       "      <td>4</td>\n",
       "      <td>2</td>\n",
       "      <td>4</td>\n",
       "      <td>4</td>\n",
       "    </tr>\n",
       "    <tr>\n",
       "      <th>top</th>\n",
       "      <td>No</td>\n",
       "      <td>Travel_Rarely</td>\n",
       "      <td>Research &amp; Development</td>\n",
       "      <td>Life Sciences</td>\n",
       "      <td>Male</td>\n",
       "      <td>Sales Executive</td>\n",
       "      <td>Married</td>\n",
       "      <td>Y</td>\n",
       "      <td>No</td>\n",
       "      <td>3</td>\n",
       "      <td>3</td>\n",
       "      <td>3</td>\n",
       "      <td>4</td>\n",
       "      <td>3</td>\n",
       "      <td>3</td>\n",
       "      <td>3</td>\n",
       "    </tr>\n",
       "    <tr>\n",
       "      <th>freq</th>\n",
       "      <td>1233</td>\n",
       "      <td>1043</td>\n",
       "      <td>961</td>\n",
       "      <td>606</td>\n",
       "      <td>882</td>\n",
       "      <td>326</td>\n",
       "      <td>673</td>\n",
       "      <td>1470</td>\n",
       "      <td>1054</td>\n",
       "      <td>572</td>\n",
       "      <td>453</td>\n",
       "      <td>868</td>\n",
       "      <td>459</td>\n",
       "      <td>1244</td>\n",
       "      <td>459</td>\n",
       "      <td>893</td>\n",
       "    </tr>\n",
       "  </tbody>\n",
       "</table>\n",
       "</div>"
      ],
      "text/plain": [
       "       Attrition BusinessTravel              Department EducationField Gender  \\\n",
       "count       1470           1470                    1470           1470   1470   \n",
       "unique         2              3                       3              6      2   \n",
       "top           No  Travel_Rarely  Research & Development  Life Sciences   Male   \n",
       "freq        1233           1043                     961            606    882   \n",
       "\n",
       "                JobRole MaritalStatus Over18 OverTime  Education  \\\n",
       "count              1470          1470   1470     1470       1470   \n",
       "unique                9             3      1        2          5   \n",
       "top     Sales Executive       Married      Y       No          3   \n",
       "freq                326           673   1470     1054        572   \n",
       "\n",
       "        EnvironmentSatisfaction  JobInvolvement  JobSatisfaction  \\\n",
       "count                      1470            1470             1470   \n",
       "unique                        4               4                4   \n",
       "top                           3               3                4   \n",
       "freq                        453             868              459   \n",
       "\n",
       "        PerformanceRating  RelationshipSatisfaction  WorkLifeBalance  \n",
       "count                1470                      1470             1470  \n",
       "unique                  2                         4                4  \n",
       "top                     3                         3                3  \n",
       "freq                 1244                       459              893  "
      ]
     },
     "execution_count": 13,
     "metadata": {},
     "output_type": "execute_result"
    }
   ],
   "source": [
    "empattr_obj.describe()"
   ]
  },
  {
   "cell_type": "markdown",
   "id": "6f70a5cb",
   "metadata": {},
   "source": [
    "Already, we can see for some of the observations that a majority of the employees in this dataset did not quit their jobs (Attrition = No). We can also see that a large proportion of observations are male employees (they make up a majority relative to the other gender 'female').   "
   ]
  },
  {
   "cell_type": "code",
   "execution_count": 14,
   "id": "6064472d",
   "metadata": {},
   "outputs": [],
   "source": [
    "# plot_figure(tibble, colname, plot_title = None, xlab = None, ylab = None, fig_type = None)"
   ]
  },
  {
   "cell_type": "code",
   "execution_count": 15,
   "id": "dde18663",
   "metadata": {},
   "outputs": [
    {
     "name": "stdout",
     "output_type": "stream",
     "text": [
      "Counter({'No': 1233, 'Yes': 237})\n",
      "  category  numeric\n",
      "0      Yes      237\n",
      "1       No     1233\n",
      "Counter({'Male': 882, 'Female': 588})\n",
      "  category  numeric\n",
      "0   Female      588\n",
      "1     Male      882\n",
      "Counter({3: 1244, 4: 226})\n",
      "   category  numeric\n",
      "0         3     1244\n",
      "1         4      226\n"
     ]
    },
    {
     "data": {
      "text/plain": [
       "True"
      ]
     },
     "execution_count": 15,
     "metadata": {},
     "output_type": "execute_result"
    },
    {
     "data": {
      "image/png": "[encoded data removed]",
      "text/plain": [
       "<Figure size 432x288 with 1 Axes>"
      ]
     },
     "metadata": {
      "needs_background": "light"
     },
     "output_type": "display_data"
    },
    {
     "data": {
      "image/png": "[encoded data removed]",
      "text/plain": [
       "<Figure size 432x288 with 1 Axes>"
      ]
     },
     "metadata": {
      "needs_background": "light"
     },
     "output_type": "display_data"
    },
    {
     "data": {
      "image/png": "[encoded data removed]",
      "text/plain": [
       "<Figure size 432x288 with 1 Axes>"
      ]
     },
     "metadata": {
      "needs_background": "light"
     },
     "output_type": "display_data"
    }
   ],
   "source": [
    "# fig, ax = plt.subplots(1,3, figsize = (10, 6))\n",
    "# plt.subplot(1,3,1)\n",
    "plot_figure(empattr, 'Attrition', 'by Attrition', xlab = 'Attrition', ylab = None, fig_type = 'barh')\n",
    "\n",
    "# plt.subplot(1,3,2)\n",
    "plot_figure(empattr, 'Gender', 'by Gender', xlab = 'Gender',ylab = None, fig_type = 'barh')\n",
    "# plt.subplot(1,3,3)\n",
    "\n",
    "plot_figure(empattr, 'PerformanceRating', 'by PerformanceRating',xlab = \"PerformanceRating\",ylab = None, fig_type = 'barh')\n"
   ]
  },
  {
   "cell_type": "code",
   "execution_count": 16,
   "id": "e8714903",
   "metadata": {},
   "outputs": [],
   "source": [
    "# Descriptive statistics for the numerical data\n",
    "\n",
    "# Grabbing all of the columns that were not identified as categorical (not in the empattr_obj dataframe)\n",
    "empattr_numerical_cols = list(set(empattr.columns.tolist()).difference(set(objcols + catcols)))"
   ]
  },
  {
   "cell_type": "code",
   "execution_count": 17,
   "id": "2f0650d0",
   "metadata": {},
   "outputs": [
    {
     "data": {
      "text/html": [
       "<div>\n",
       "<style scoped>\n",
       "    .dataframe tbody tr th:only-of-type {\n",
       "        vertical-align: middle;\n",
       "    }\n",
       "\n",
       "    .dataframe tbody tr th {\n",
       "        vertical-align: top;\n",
       "    }\n",
       "\n",
       "    .dataframe thead th {\n",
       "        text-align: right;\n",
       "    }\n",
       "</style>\n",
       "<table border=\"1\" class=\"dataframe\">\n",
       "  <thead>\n",
       "    <tr style=\"text-align: right;\">\n",
       "      <th></th>\n",
       "      <th>DistanceFromHome</th>\n",
       "      <th>MonthlyRate</th>\n",
       "      <th>DailyRate</th>\n",
       "      <th>StandardHours</th>\n",
       "      <th>TrainingTimesLastYear</th>\n",
       "      <th>YearsAtCompany</th>\n",
       "      <th>YearsInCurrentRole</th>\n",
       "      <th>MonthlyIncome</th>\n",
       "      <th>StockOptionLevel</th>\n",
       "      <th>Age</th>\n",
       "      <th>EmployeeNumber</th>\n",
       "      <th>HourlyRate</th>\n",
       "      <th>NumCompaniesWorked</th>\n",
       "      <th>JobLevel</th>\n",
       "      <th>YearsWithCurrManager</th>\n",
       "      <th>EmployeeCount</th>\n",
       "      <th>TotalWorkingYears</th>\n",
       "      <th>PercentSalaryHike</th>\n",
       "      <th>YearsSinceLastPromotion</th>\n",
       "    </tr>\n",
       "  </thead>\n",
       "  <tbody>\n",
       "    <tr>\n",
       "      <th>count</th>\n",
       "      <td>1470.000000</td>\n",
       "      <td>1470.000000</td>\n",
       "      <td>1470.000000</td>\n",
       "      <td>1470.0</td>\n",
       "      <td>1470.000000</td>\n",
       "      <td>1470.000000</td>\n",
       "      <td>1470.000000</td>\n",
       "      <td>1470.000000</td>\n",
       "      <td>1470.000000</td>\n",
       "      <td>1470.000000</td>\n",
       "      <td>1470.000000</td>\n",
       "      <td>1470.000000</td>\n",
       "      <td>1470.000000</td>\n",
       "      <td>1470.000000</td>\n",
       "      <td>1470.000000</td>\n",
       "      <td>1470.0</td>\n",
       "      <td>1470.000000</td>\n",
       "      <td>1470.000000</td>\n",
       "      <td>1470.000000</td>\n",
       "    </tr>\n",
       "    <tr>\n",
       "      <th>mean</th>\n",
       "      <td>9.192517</td>\n",
       "      <td>14313.103401</td>\n",
       "      <td>802.485714</td>\n",
       "      <td>80.0</td>\n",
       "      <td>2.799320</td>\n",
       "      <td>7.008163</td>\n",
       "      <td>4.229252</td>\n",
       "      <td>6502.931293</td>\n",
       "      <td>0.793878</td>\n",
       "      <td>36.923810</td>\n",
       "      <td>1024.865306</td>\n",
       "      <td>65.891156</td>\n",
       "      <td>2.693197</td>\n",
       "      <td>2.063946</td>\n",
       "      <td>4.123129</td>\n",
       "      <td>1.0</td>\n",
       "      <td>11.279592</td>\n",
       "      <td>15.209524</td>\n",
       "      <td>2.187755</td>\n",
       "    </tr>\n",
       "    <tr>\n",
       "      <th>std</th>\n",
       "      <td>8.106864</td>\n",
       "      <td>7117.786044</td>\n",
       "      <td>403.509100</td>\n",
       "      <td>0.0</td>\n",
       "      <td>1.289271</td>\n",
       "      <td>6.126525</td>\n",
       "      <td>3.623137</td>\n",
       "      <td>4707.956783</td>\n",
       "      <td>0.852077</td>\n",
       "      <td>9.135373</td>\n",
       "      <td>602.024335</td>\n",
       "      <td>20.329428</td>\n",
       "      <td>2.498009</td>\n",
       "      <td>1.106940</td>\n",
       "      <td>3.568136</td>\n",
       "      <td>0.0</td>\n",
       "      <td>7.780782</td>\n",
       "      <td>3.659938</td>\n",
       "      <td>3.222430</td>\n",
       "    </tr>\n",
       "    <tr>\n",
       "      <th>min</th>\n",
       "      <td>1.000000</td>\n",
       "      <td>2094.000000</td>\n",
       "      <td>102.000000</td>\n",
       "      <td>80.0</td>\n",
       "      <td>0.000000</td>\n",
       "      <td>0.000000</td>\n",
       "      <td>0.000000</td>\n",
       "      <td>1009.000000</td>\n",
       "      <td>0.000000</td>\n",
       "      <td>18.000000</td>\n",
       "      <td>1.000000</td>\n",
       "      <td>30.000000</td>\n",
       "      <td>0.000000</td>\n",
       "      <td>1.000000</td>\n",
       "      <td>0.000000</td>\n",
       "      <td>1.0</td>\n",
       "      <td>0.000000</td>\n",
       "      <td>11.000000</td>\n",
       "      <td>0.000000</td>\n",
       "    </tr>\n",
       "    <tr>\n",
       "      <th>25%</th>\n",
       "      <td>2.000000</td>\n",
       "      <td>8047.000000</td>\n",
       "      <td>465.000000</td>\n",
       "      <td>80.0</td>\n",
       "      <td>2.000000</td>\n",
       "      <td>3.000000</td>\n",
       "      <td>2.000000</td>\n",
       "      <td>2911.000000</td>\n",
       "      <td>0.000000</td>\n",
       "      <td>30.000000</td>\n",
       "      <td>491.250000</td>\n",
       "      <td>48.000000</td>\n",
       "      <td>1.000000</td>\n",
       "      <td>1.000000</td>\n",
       "      <td>2.000000</td>\n",
       "      <td>1.0</td>\n",
       "      <td>6.000000</td>\n",
       "      <td>12.000000</td>\n",
       "      <td>0.000000</td>\n",
       "    </tr>\n",
       "    <tr>\n",
       "      <th>50%</th>\n",
       "      <td>7.000000</td>\n",
       "      <td>14235.500000</td>\n",
       "      <td>802.000000</td>\n",
       "      <td>80.0</td>\n",
       "      <td>3.000000</td>\n",
       "      <td>5.000000</td>\n",
       "      <td>3.000000</td>\n",
       "      <td>4919.000000</td>\n",
       "      <td>1.000000</td>\n",
       "      <td>36.000000</td>\n",
       "      <td>1020.500000</td>\n",
       "      <td>66.000000</td>\n",
       "      <td>2.000000</td>\n",
       "      <td>2.000000</td>\n",
       "      <td>3.000000</td>\n",
       "      <td>1.0</td>\n",
       "      <td>10.000000</td>\n",
       "      <td>14.000000</td>\n",
       "      <td>1.000000</td>\n",
       "    </tr>\n",
       "    <tr>\n",
       "      <th>75%</th>\n",
       "      <td>14.000000</td>\n",
       "      <td>20461.500000</td>\n",
       "      <td>1157.000000</td>\n",
       "      <td>80.0</td>\n",
       "      <td>3.000000</td>\n",
       "      <td>9.000000</td>\n",
       "      <td>7.000000</td>\n",
       "      <td>8379.000000</td>\n",
       "      <td>1.000000</td>\n",
       "      <td>43.000000</td>\n",
       "      <td>1555.750000</td>\n",
       "      <td>83.750000</td>\n",
       "      <td>4.000000</td>\n",
       "      <td>3.000000</td>\n",
       "      <td>7.000000</td>\n",
       "      <td>1.0</td>\n",
       "      <td>15.000000</td>\n",
       "      <td>18.000000</td>\n",
       "      <td>3.000000</td>\n",
       "    </tr>\n",
       "    <tr>\n",
       "      <th>max</th>\n",
       "      <td>29.000000</td>\n",
       "      <td>26999.000000</td>\n",
       "      <td>1499.000000</td>\n",
       "      <td>80.0</td>\n",
       "      <td>6.000000</td>\n",
       "      <td>40.000000</td>\n",
       "      <td>18.000000</td>\n",
       "      <td>19999.000000</td>\n",
       "      <td>3.000000</td>\n",
       "      <td>60.000000</td>\n",
       "      <td>2068.000000</td>\n",
       "      <td>100.000000</td>\n",
       "      <td>9.000000</td>\n",
       "      <td>5.000000</td>\n",
       "      <td>17.000000</td>\n",
       "      <td>1.0</td>\n",
       "      <td>40.000000</td>\n",
       "      <td>25.000000</td>\n",
       "      <td>15.000000</td>\n",
       "    </tr>\n",
       "  </tbody>\n",
       "</table>\n",
       "</div>"
      ],
      "text/plain": [
       "       DistanceFromHome   MonthlyRate    DailyRate  StandardHours  \\\n",
       "count       1470.000000   1470.000000  1470.000000         1470.0   \n",
       "mean           9.192517  14313.103401   802.485714           80.0   \n",
       "std            8.106864   7117.786044   403.509100            0.0   \n",
       "min            1.000000   2094.000000   102.000000           80.0   \n",
       "25%            2.000000   8047.000000   465.000000           80.0   \n",
       "50%            7.000000  14235.500000   802.000000           80.0   \n",
       "75%           14.000000  20461.500000  1157.000000           80.0   \n",
       "max           29.000000  26999.000000  1499.000000           80.0   \n",
       "\n",
       "       TrainingTimesLastYear  YearsAtCompany  YearsInCurrentRole  \\\n",
       "count            1470.000000     1470.000000         1470.000000   \n",
       "mean                2.799320        7.008163            4.229252   \n",
       "std                 1.289271        6.126525            3.623137   \n",
       "min                 0.000000        0.000000            0.000000   \n",
       "25%                 2.000000        3.000000            2.000000   \n",
       "50%                 3.000000        5.000000            3.000000   \n",
       "75%                 3.000000        9.000000            7.000000   \n",
       "max                 6.000000       40.000000           18.000000   \n",
       "\n",
       "       MonthlyIncome  StockOptionLevel          Age  EmployeeNumber  \\\n",
       "count    1470.000000       1470.000000  1470.000000     1470.000000   \n",
       "mean     6502.931293          0.793878    36.923810     1024.865306   \n",
       "std      4707.956783          0.852077     9.135373      602.024335   \n",
       "min      1009.000000          0.000000    18.000000        1.000000   \n",
       "25%      2911.000000          0.000000    30.000000      491.250000   \n",
       "50%      4919.000000          1.000000    36.000000     1020.500000   \n",
       "75%      8379.000000          1.000000    43.000000     1555.750000   \n",
       "max     19999.000000          3.000000    60.000000     2068.000000   \n",
       "\n",
       "        HourlyRate  NumCompaniesWorked     JobLevel  YearsWithCurrManager  \\\n",
       "count  1470.000000         1470.000000  1470.000000           1470.000000   \n",
       "mean     65.891156            2.693197     2.063946              4.123129   \n",
       "std      20.329428            2.498009     1.106940              3.568136   \n",
       "min      30.000000            0.000000     1.000000              0.000000   \n",
       "25%      48.000000            1.000000     1.000000              2.000000   \n",
       "50%      66.000000            2.000000     2.000000              3.000000   \n",
       "75%      83.750000            4.000000     3.000000              7.000000   \n",
       "max     100.000000            9.000000     5.000000             17.000000   \n",
       "\n",
       "       EmployeeCount  TotalWorkingYears  PercentSalaryHike  \\\n",
       "count         1470.0        1470.000000        1470.000000   \n",
       "mean             1.0          11.279592          15.209524   \n",
       "std              0.0           7.780782           3.659938   \n",
       "min              1.0           0.000000          11.000000   \n",
       "25%              1.0           6.000000          12.000000   \n",
       "50%              1.0          10.000000          14.000000   \n",
       "75%              1.0          15.000000          18.000000   \n",
       "max              1.0          40.000000          25.000000   \n",
       "\n",
       "       YearsSinceLastPromotion  \n",
       "count              1470.000000  \n",
       "mean                  2.187755  \n",
       "std                   3.222430  \n",
       "min                   0.000000  \n",
       "25%                   0.000000  \n",
       "50%                   1.000000  \n",
       "75%                   3.000000  \n",
       "max                  15.000000  "
      ]
     },
     "execution_count": 17,
     "metadata": {},
     "output_type": "execute_result"
    }
   ],
   "source": [
    "empattr[empattr_numerical_cols].describe()"
   ]
  },
  {
   "cell_type": "code",
   "execution_count": 18,
   "id": "2d0e33a8",
   "metadata": {},
   "outputs": [
    {
     "data": {
      "text/plain": [
       "True"
      ]
     },
     "execution_count": 18,
     "metadata": {},
     "output_type": "execute_result"
    },
    {
     "data": {
      "image/png": "[encoded data removed]",
      "text/plain": [
       "<Figure size 720x432 with 3 Axes>"
      ]
     },
     "metadata": {
      "needs_background": "light"
     },
     "output_type": "display_data"
    }
   ],
   "source": [
    "fig, ax = plt.subplots(1,3, figsize = (10, 6))\n",
    "plt.subplot(1,3,1)\n",
    "plot_figure(empattr, 'Age', 'by Age', 'Age', None, 'hist')\n",
    "plt.subplot(1,3,2)\n",
    "plot_figure(empattr, 'YearsSinceLastPromotion', 'by YearsSinceLastPromotion', 'YearsSinceLastPromotion', None, 'hist')\n",
    "plt.subplot(1,3,3)\n",
    "plot_figure(empattr, 'DistanceFromHome', 'by DistanceFromHome', 'DistanceFromHome', None, 'hist')"
   ]
  },
  {
   "cell_type": "markdown",
   "id": "e80c81e5",
   "metadata": {},
   "source": [
    "Let's suppose that the variables age, YearsSinceLastPromotion, and DistanceFromHome would all provide predictive power  for whether or not an employee will leave the company. \n",
    "\n",
    "We can run a logistic regression model using these three variables and assess if the model provides accurate predictions. \n",
    "\n",
    "Otherwise, if not we can potentially consider a full model with all of the available predicting variables and see if a test for a subset of coefficients would be statistically significant.\n",
    "\n",
    "If so, then we can proceed with using variable selection techniques to find the best subset of coefficients that yield accurate predictions subject to AIC, BIC, or Mallow's Cp."
   ]
  },
  {
   "cell_type": "markdown",
   "id": "894d05c5",
   "metadata": {},
   "source": [
    "## Submodel with full data"
   ]
  },
  {
   "cell_type": "code",
   "execution_count": 19,
   "id": "7f45a38c",
   "metadata": {},
   "outputs": [],
   "source": [
    "modelformula = 'Attrition ~ Age + YearsSinceLastPromotion + DistanceFromHome'"
   ]
  },
  {
   "cell_type": "code",
   "execution_count": 20,
   "id": "774418df",
   "metadata": {},
   "outputs": [
    {
     "name": "stdout",
     "output_type": "stream",
     "text": [
      "                          Generalized Linear Model Regression Results                          \n",
      "===============================================================================================\n",
      "Dep. Variable:     ['Attrition[No]', 'Attrition[Yes]']   No. Observations:                 1470\n",
      "Model:                                             GLM   Df Residuals:                     1466\n",
      "Model Family:                                 Binomial   Df Model:                            3\n",
      "Link Function:                                   logit   Scale:                          1.0000\n",
      "Method:                                           IRLS   Log-Likelihood:                -625.05\n",
      "Date:                                 Tue, 03 May 2022   Deviance:                       1250.1\n",
      "Time:                                         10:44:45   Pearson chi2:                 1.53e+03\n",
      "No. Iterations:                                      5                                         \n",
      "Covariance Type:                             nonrobust                                         \n",
      "===========================================================================================\n",
      "                              coef    std err          z      P>|z|      [0.025      0.975]\n",
      "-------------------------------------------------------------------------------------------\n",
      "Intercept                   0.0274      0.318      0.086      0.931      -0.595       0.650\n",
      "Age                         0.0529      0.009      5.881      0.000       0.035       0.071\n",
      "YearsSinceLastPromotion    -0.0027      0.025     -0.108      0.914      -0.051       0.046\n",
      "DistanceFromHome           -0.0258      0.009     -3.034      0.002      -0.043      -0.009\n",
      "===========================================================================================\n"
     ]
    }
   ],
   "source": [
    "smf_model = smf.glm(formula = modelformula, data=empattr, family=sm.families.Binomial())\n",
    "result = smf_model.fit()\n",
    "print(result.summary())"
   ]
  },
  {
   "cell_type": "code",
   "execution_count": 21,
   "id": "a9d3788c",
   "metadata": {
    "scrolled": true
   },
   "outputs": [
    {
     "name": "stdout",
     "output_type": "stream",
     "text": [
      "Coefficeients\n",
      "Intercept                  0.027362\n",
      "Age                        0.052933\n",
      "YearsSinceLastPromotion   -0.002685\n",
      "DistanceFromHome          -0.025825\n",
      "dtype: float64\n",
      "\n",
      "p-Values\n",
      "Intercept                  9.313819e-01\n",
      "Age                        4.080181e-09\n",
      "YearsSinceLastPromotion    9.139196e-01\n",
      "DistanceFromHome           2.412449e-03\n",
      "dtype: float64\n",
      "\n",
      "Dependent variables\n",
      "['Attrition[No]', 'Attrition[Yes]']\n"
     ]
    }
   ],
   "source": [
    "print(\"Coefficeients\")\n",
    "print(result.params)\n",
    "print()\n",
    "print(\"p-Values\")\n",
    "print(result.pvalues)\n",
    "print()\n",
    "print(\"Dependent variables\")\n",
    "print(result.model.endog_names)"
   ]
  },
  {
   "cell_type": "markdown",
   "id": "e1ab58eb",
   "metadata": {},
   "source": [
    "Given an $\\alpha$ threshold of 0.05, we can see that all the p-values for the three chosen predictors are indeed less than the threshold and therefore statistically significant."
   ]
  },
  {
   "cell_type": "markdown",
   "id": "8550afa6",
   "metadata": {},
   "source": [
    "## Divide up the data intro training and test sets"
   ]
  },
  {
   "cell_type": "code",
   "execution_count": 22,
   "id": "2e7e94c2",
   "metadata": {},
   "outputs": [],
   "source": [
    "# Re-map the Yes's to 1s and No's to 0s\n",
    "# response = empattr['Attrition'].apply(lambda x: 1 if x.upper() == 'YES' else 0)"
   ]
  },
  {
   "cell_type": "code",
   "execution_count": 23,
   "id": "1657b98d",
   "metadata": {},
   "outputs": [],
   "source": [
    "predictors = empattr[['Age', 'YearsSinceLastPromotion', 'DistanceFromHome']]"
   ]
  },
  {
   "cell_type": "code",
   "execution_count": 24,
   "id": "5221164d",
   "metadata": {},
   "outputs": [],
   "source": [
    "response = empattr[['Attrition']]"
   ]
  },
  {
   "cell_type": "code",
   "execution_count": 25,
   "id": "07b4762a",
   "metadata": {},
   "outputs": [],
   "source": [
    "xtrain, xtest, ytrain, ytest = train_test_split(predictors, response, test_size = 0.2, random_state = 0)"
   ]
  },
  {
   "cell_type": "code",
   "execution_count": 58,
   "id": "76d0a8e5",
   "metadata": {},
   "outputs": [
    {
     "data": {
      "text/html": [
       "<div>\n",
       "<style scoped>\n",
       "    .dataframe tbody tr th:only-of-type {\n",
       "        vertical-align: middle;\n",
       "    }\n",
       "\n",
       "    .dataframe tbody tr th {\n",
       "        vertical-align: top;\n",
       "    }\n",
       "\n",
       "    .dataframe thead th {\n",
       "        text-align: right;\n",
       "    }\n",
       "</style>\n",
       "<table border=\"1\" class=\"dataframe\">\n",
       "  <thead>\n",
       "    <tr style=\"text-align: right;\">\n",
       "      <th></th>\n",
       "      <th>Age</th>\n",
       "      <th>YearsSinceLastPromotion</th>\n",
       "      <th>DistanceFromHome</th>\n",
       "    </tr>\n",
       "  </thead>\n",
       "  <tbody>\n",
       "    <tr>\n",
       "      <th>1374</th>\n",
       "      <td>58</td>\n",
       "      <td>0</td>\n",
       "      <td>21</td>\n",
       "    </tr>\n",
       "    <tr>\n",
       "      <th>1092</th>\n",
       "      <td>45</td>\n",
       "      <td>0</td>\n",
       "      <td>28</td>\n",
       "    </tr>\n",
       "    <tr>\n",
       "      <th>768</th>\n",
       "      <td>40</td>\n",
       "      <td>7</td>\n",
       "      <td>26</td>\n",
       "    </tr>\n",
       "    <tr>\n",
       "      <th>569</th>\n",
       "      <td>36</td>\n",
       "      <td>0</td>\n",
       "      <td>8</td>\n",
       "    </tr>\n",
       "    <tr>\n",
       "      <th>911</th>\n",
       "      <td>25</td>\n",
       "      <td>1</td>\n",
       "      <td>24</td>\n",
       "    </tr>\n",
       "  </tbody>\n",
       "</table>\n",
       "</div>"
      ],
      "text/plain": [
       "      Age  YearsSinceLastPromotion  DistanceFromHome\n",
       "1374   58                        0                21\n",
       "1092   45                        0                28\n",
       "768    40                        7                26\n",
       "569    36                        0                 8\n",
       "911    25                        1                24"
      ]
     },
     "metadata": {},
     "output_type": "display_data"
    },
    {
     "data": {
      "text/html": [
       "<div>\n",
       "<style scoped>\n",
       "    .dataframe tbody tr th:only-of-type {\n",
       "        vertical-align: middle;\n",
       "    }\n",
       "\n",
       "    .dataframe tbody tr th {\n",
       "        vertical-align: top;\n",
       "    }\n",
       "\n",
       "    .dataframe thead th {\n",
       "        text-align: right;\n",
       "    }\n",
       "</style>\n",
       "<table border=\"1\" class=\"dataframe\">\n",
       "  <thead>\n",
       "    <tr style=\"text-align: right;\">\n",
       "      <th></th>\n",
       "      <th>Age</th>\n",
       "      <th>YearsSinceLastPromotion</th>\n",
       "      <th>DistanceFromHome</th>\n",
       "    </tr>\n",
       "  </thead>\n",
       "  <tbody>\n",
       "    <tr>\n",
       "      <th>442</th>\n",
       "      <td>36</td>\n",
       "      <td>9</td>\n",
       "      <td>10</td>\n",
       "    </tr>\n",
       "    <tr>\n",
       "      <th>1091</th>\n",
       "      <td>33</td>\n",
       "      <td>0</td>\n",
       "      <td>25</td>\n",
       "    </tr>\n",
       "    <tr>\n",
       "      <th>981</th>\n",
       "      <td>35</td>\n",
       "      <td>3</td>\n",
       "      <td>18</td>\n",
       "    </tr>\n",
       "    <tr>\n",
       "      <th>785</th>\n",
       "      <td>40</td>\n",
       "      <td>11</td>\n",
       "      <td>20</td>\n",
       "    </tr>\n",
       "    <tr>\n",
       "      <th>1332</th>\n",
       "      <td>29</td>\n",
       "      <td>1</td>\n",
       "      <td>24</td>\n",
       "    </tr>\n",
       "  </tbody>\n",
       "</table>\n",
       "</div>"
      ],
      "text/plain": [
       "      Age  YearsSinceLastPromotion  DistanceFromHome\n",
       "442    36                        9                10\n",
       "1091   33                        0                25\n",
       "981    35                        3                18\n",
       "785    40                       11                20\n",
       "1332   29                        1                24"
      ]
     },
     "metadata": {},
     "output_type": "display_data"
    },
    {
     "data": {
      "text/html": [
       "<div>\n",
       "<style scoped>\n",
       "    .dataframe tbody tr th:only-of-type {\n",
       "        vertical-align: middle;\n",
       "    }\n",
       "\n",
       "    .dataframe tbody tr th {\n",
       "        vertical-align: top;\n",
       "    }\n",
       "\n",
       "    .dataframe thead th {\n",
       "        text-align: right;\n",
       "    }\n",
       "</style>\n",
       "<table border=\"1\" class=\"dataframe\">\n",
       "  <thead>\n",
       "    <tr style=\"text-align: right;\">\n",
       "      <th></th>\n",
       "      <th>Attrition</th>\n",
       "    </tr>\n",
       "  </thead>\n",
       "  <tbody>\n",
       "    <tr>\n",
       "      <th>1374</th>\n",
       "      <td>No</td>\n",
       "    </tr>\n",
       "    <tr>\n",
       "      <th>1092</th>\n",
       "      <td>No</td>\n",
       "    </tr>\n",
       "    <tr>\n",
       "      <th>768</th>\n",
       "      <td>No</td>\n",
       "    </tr>\n",
       "    <tr>\n",
       "      <th>569</th>\n",
       "      <td>No</td>\n",
       "    </tr>\n",
       "    <tr>\n",
       "      <th>911</th>\n",
       "      <td>Yes</td>\n",
       "    </tr>\n",
       "  </tbody>\n",
       "</table>\n",
       "</div>"
      ],
      "text/plain": [
       "     Attrition\n",
       "1374        No\n",
       "1092        No\n",
       "768         No\n",
       "569         No\n",
       "911        Yes"
      ]
     },
     "metadata": {},
     "output_type": "display_data"
    },
    {
     "data": {
      "text/html": [
       "<div>\n",
       "<style scoped>\n",
       "    .dataframe tbody tr th:only-of-type {\n",
       "        vertical-align: middle;\n",
       "    }\n",
       "\n",
       "    .dataframe tbody tr th {\n",
       "        vertical-align: top;\n",
       "    }\n",
       "\n",
       "    .dataframe thead th {\n",
       "        text-align: right;\n",
       "    }\n",
       "</style>\n",
       "<table border=\"1\" class=\"dataframe\">\n",
       "  <thead>\n",
       "    <tr style=\"text-align: right;\">\n",
       "      <th></th>\n",
       "      <th>Attrition</th>\n",
       "    </tr>\n",
       "  </thead>\n",
       "  <tbody>\n",
       "    <tr>\n",
       "      <th>442</th>\n",
       "      <td>No</td>\n",
       "    </tr>\n",
       "    <tr>\n",
       "      <th>1091</th>\n",
       "      <td>No</td>\n",
       "    </tr>\n",
       "    <tr>\n",
       "      <th>981</th>\n",
       "      <td>Yes</td>\n",
       "    </tr>\n",
       "    <tr>\n",
       "      <th>785</th>\n",
       "      <td>No</td>\n",
       "    </tr>\n",
       "    <tr>\n",
       "      <th>1332</th>\n",
       "      <td>Yes</td>\n",
       "    </tr>\n",
       "  </tbody>\n",
       "</table>\n",
       "</div>"
      ],
      "text/plain": [
       "     Attrition\n",
       "442         No\n",
       "1091        No\n",
       "981        Yes\n",
       "785         No\n",
       "1332       Yes"
      ]
     },
     "metadata": {},
     "output_type": "display_data"
    }
   ],
   "source": [
    "display(xtrain.head())\n",
    "display(xtest.head())\n",
    "display(ytrain.head())\n",
    "display(ytest.head())"
   ]
  },
  {
   "cell_type": "code",
   "execution_count": 32,
   "id": "49173a3e",
   "metadata": {},
   "outputs": [
    {
     "data": {
      "text/html": [
       "<div>\n",
       "<style scoped>\n",
       "    .dataframe tbody tr th:only-of-type {\n",
       "        vertical-align: middle;\n",
       "    }\n",
       "\n",
       "    .dataframe tbody tr th {\n",
       "        vertical-align: top;\n",
       "    }\n",
       "\n",
       "    .dataframe thead th {\n",
       "        text-align: right;\n",
       "    }\n",
       "</style>\n",
       "<table border=\"1\" class=\"dataframe\">\n",
       "  <thead>\n",
       "    <tr style=\"text-align: right;\">\n",
       "      <th></th>\n",
       "      <th>Age</th>\n",
       "      <th>YearsSinceLastPromotion</th>\n",
       "      <th>DistanceFromHome</th>\n",
       "    </tr>\n",
       "  </thead>\n",
       "  <tbody>\n",
       "    <tr>\n",
       "      <th>1374</th>\n",
       "      <td>58</td>\n",
       "      <td>0</td>\n",
       "      <td>21</td>\n",
       "    </tr>\n",
       "    <tr>\n",
       "      <th>1092</th>\n",
       "      <td>45</td>\n",
       "      <td>0</td>\n",
       "      <td>28</td>\n",
       "    </tr>\n",
       "    <tr>\n",
       "      <th>768</th>\n",
       "      <td>40</td>\n",
       "      <td>7</td>\n",
       "      <td>26</td>\n",
       "    </tr>\n",
       "  </tbody>\n",
       "</table>\n",
       "</div>"
      ],
      "text/plain": [
       "      Age  YearsSinceLastPromotion  DistanceFromHome\n",
       "1374   58                        0                21\n",
       "1092   45                        0                28\n",
       "768    40                        7                26"
      ]
     },
     "execution_count": 32,
     "metadata": {},
     "output_type": "execute_result"
    }
   ],
   "source": [
    "xtrain.head(3)"
   ]
  },
  {
   "cell_type": "code",
   "execution_count": 33,
   "id": "0f2c9549",
   "metadata": {},
   "outputs": [],
   "source": [
    "xtrain2 = xtrain.merge(ytrain, left_index = True, right_index = True)"
   ]
  },
  {
   "cell_type": "code",
   "execution_count": 35,
   "id": "14900e3b",
   "metadata": {},
   "outputs": [],
   "source": [
    "smf_model_train = smf.glm(formula = modelformula, data=xtrain2, family=sm.families.Binomial())"
   ]
  },
  {
   "cell_type": "code",
   "execution_count": 36,
   "id": "b4989453",
   "metadata": {},
   "outputs": [],
   "source": [
    "smf_model_train_result = smf_model_train.fit()"
   ]
  },
  {
   "cell_type": "code",
   "execution_count": 97,
   "id": "ddd19359",
   "metadata": {},
   "outputs": [
    {
     "data": {
      "text/plain": [
       "'Attrition ~ Age + YearsSinceLastPromotion + DistanceFromHome'"
      ]
     },
     "execution_count": 97,
     "metadata": {},
     "output_type": "execute_result"
    }
   ],
   "source": [
    "smf_model_train.formula"
   ]
  },
  {
   "cell_type": "code",
   "execution_count": 47,
   "id": "f6e34ebf",
   "metadata": {},
   "outputs": [
    {
     "data": {
      "text/plain": [
       "Intercept                 -0.201604\n",
       "Age                        0.059214\n",
       "YearsSinceLastPromotion    0.003811\n",
       "DistanceFromHome          -0.024044\n",
       "dtype: float64"
      ]
     },
     "execution_count": 47,
     "metadata": {},
     "output_type": "execute_result"
    }
   ],
   "source": [
    "smf_model_train_result.params"
   ]
  },
  {
   "cell_type": "code",
   "execution_count": 98,
   "id": "7c03f6ad",
   "metadata": {},
   "outputs": [
    {
     "data": {
      "text/plain": [
       "Intercept                  5.759626e-01\n",
       "Age                        9.609307e-09\n",
       "YearsSinceLastPromotion    8.950613e-01\n",
       "DistanceFromHome           1.229569e-02\n",
       "dtype: float64"
      ]
     },
     "execution_count": 98,
     "metadata": {},
     "output_type": "execute_result"
    }
   ],
   "source": [
    "smf_model_train_result.pvalues"
   ]
  },
  {
   "cell_type": "code",
   "execution_count": 61,
   "id": "53bf04a9",
   "metadata": {},
   "outputs": [],
   "source": [
    "# Getting the fitted values from the training set\n",
    "fitted_xtrain2 = smf_model_train_result.fittedvalues\n",
    "fitted_xtrain2_recoded = fitted_xtrain2.apply(lambda x: 0 if x > 0.5 else 1)"
   ]
  },
  {
   "cell_type": "code",
   "execution_count": 63,
   "id": "c27626d6",
   "metadata": {},
   "outputs": [
    {
     "data": {
      "text/plain": [
       "1176"
      ]
     },
     "execution_count": 63,
     "metadata": {},
     "output_type": "execute_result"
    }
   ],
   "source": [
    "len(fitted_xtrain2)"
   ]
  },
  {
   "cell_type": "code",
   "execution_count": 76,
   "id": "877adf54",
   "metadata": {},
   "outputs": [
    {
     "data": {
      "text/plain": [
       "Counter({'No': 988, 'Yes': 188})"
      ]
     },
     "execution_count": 76,
     "metadata": {},
     "output_type": "execute_result"
    }
   ],
   "source": [
    "Counter(ytrain['Attrition'].to_list())"
   ]
  },
  {
   "cell_type": "code",
   "execution_count": 62,
   "id": "4c6430a3",
   "metadata": {},
   "outputs": [
    {
     "data": {
      "text/plain": [
       "Counter({0: 1176})"
      ]
     },
     "execution_count": 62,
     "metadata": {},
     "output_type": "execute_result"
    }
   ],
   "source": [
    "Counter(fitted_xtrain2_recoded)"
   ]
  },
  {
   "cell_type": "code",
   "execution_count": 78,
   "id": "1a8a81cd",
   "metadata": {},
   "outputs": [],
   "source": [
    "predictions_test = smf_model_train_result.predict(xtest)"
   ]
  },
  {
   "cell_type": "code",
   "execution_count": 81,
   "id": "f55c0174",
   "metadata": {},
   "outputs": [],
   "source": [
    "# Apply a threshold \n",
    "\n",
    "# Assuming 50/50 chance\n",
    "\n",
    "th = 0.5\n",
    "\n",
    "predictions_results = predictions_test.apply(lambda x: 0 if x > th else 1)"
   ]
  },
  {
   "cell_type": "code",
   "execution_count": 82,
   "id": "577a05c6",
   "metadata": {},
   "outputs": [
    {
     "data": {
      "text/plain": [
       "Counter({0: 294})"
      ]
     },
     "execution_count": 82,
     "metadata": {},
     "output_type": "execute_result"
    }
   ],
   "source": [
    "Counter(predictions_results)"
   ]
  },
  {
   "cell_type": "code",
   "execution_count": 85,
   "id": "7b46c8ec",
   "metadata": {},
   "outputs": [
    {
     "data": {
      "text/plain": [
       "Counter({'No': 245, 'Yes': 49})"
      ]
     },
     "execution_count": 85,
     "metadata": {},
     "output_type": "execute_result"
    }
   ],
   "source": [
    "Counter(ytest['Attrition'].to_list())"
   ]
  },
  {
   "cell_type": "code",
   "execution_count": 89,
   "id": "085ac4c6",
   "metadata": {},
   "outputs": [],
   "source": [
    "predictions_results_recoded = predictions_results.apply(lambda x: 'No' if x == 1 else 'Yes')"
   ]
  },
  {
   "cell_type": "code",
   "execution_count": null,
   "id": "0bfb9109",
   "metadata": {},
   "outputs": [],
   "source": [
    "# model.fit(xtrain, ytrain)\n",
    "# preds = model.predict(xtest)\n",
    "# print(classification_report(ytest, preds))\n",
    "# confusion_matrix(ytest, preds)"
   ]
  },
  {
   "cell_type": "code",
   "execution_count": null,
   "id": "f0075e64",
   "metadata": {},
   "outputs": [],
   "source": []
  },
  {
   "cell_type": "code",
   "execution_count": null,
   "id": "69cbe2dc",
   "metadata": {},
   "outputs": [],
   "source": []
  },
  {
   "cell_type": "code",
   "execution_count": null,
   "id": "152697e7",
   "metadata": {},
   "outputs": [],
   "source": []
  },
  {
   "cell_type": "code",
   "execution_count": null,
   "id": "86fe48fd",
   "metadata": {},
   "outputs": [],
   "source": []
  },
  {
   "cell_type": "code",
   "execution_count": null,
   "id": "ce1e109a",
   "metadata": {},
   "outputs": [],
   "source": []
  },
  {
   "cell_type": "code",
   "execution_count": null,
   "id": "e074d37f",
   "metadata": {},
   "outputs": [],
   "source": []
  }
 ],
 "metadata": {
  "kernelspec": {
   "display_name": "Python 3 (ipykernel)",
   "language": "python",
   "name": "python3"
  },
  "language_info": {
   "codemirror_mode": {
    "name": "ipython",
    "version": 3
   },
   "file_extension": ".py",
   "mimetype": "text/x-python",
   "name": "python",
   "nbconvert_exporter": "python",
   "pygments_lexer": "ipython3",
   "version": "3.9.7"
  }
 },
 "nbformat": 4,
 "nbformat_minor": 5
}
